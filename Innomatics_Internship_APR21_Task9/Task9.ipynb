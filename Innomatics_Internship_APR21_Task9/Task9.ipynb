{
 "cells": [
  {
   "cell_type": "markdown",
   "metadata": {},
   "source": [
    "<H1>Task 9</H1>"
   ]
  },
  {
   "cell_type": "markdown",
   "metadata": {},
   "source": [
    "<H3>Known Variance of Population</H3>"
   ]
  },
  {
   "cell_type": "markdown",
   "metadata": {},
   "source": [
    "<h4>Q-1: Pista House selling Hyderabadi Chicken Dum biryani claims that each parcel packet has 500 grams of biryani (also \n",
    "mentioned on the label of packet). You are sceptic of their claims and believe that on average each packet does not\n",
    "contain 500 grams of biryani. How do you prove your claim? (Given that the population std is 50)</h4>"
   ]
  },
  {
   "cell_type": "markdown",
   "metadata": {},
   "source": [
    "<h4>Step - 1:\n",
    "Alternate Hypothesis (Bold claim):$$ H_1: \\ ? $$Null Hypothesis (Status Quo):$$ H_0: \\ ? $$\n",
    "\n",
    "Step - 2:\n",
    "\n",
    "Collect a sample of size n = 10$$ [490, 220, 470, 500, 495, 496, 496, 498, 508, 480] $$\n",
    "Compute sample mean</h4>"
   ]
  },
  {
   "cell_type": "markdown",
   "metadata": {},
   "source": [
    "<H4>Step3::For creating T-test value</H4>\n",
    "                                                            $  t=\\frac{|\\bar{x}-\\mu|*N}{s}$"
   ]
  },
  {
   "cell_type": "markdown",
   "metadata": {},
   "source": [
    "Step - 4: Decide $ \\alpha $ or significance level\n",
    "\n",
    "Step - 5.1: ? tailed z-test:$$ reject \\ H_0 \\ if \\ ? $$\n",
    "\n",
    "Step - 5.2: Compute p-value"
   ]
  },
  {
   "cell_type": "code",
   "execution_count": null,
   "metadata": {},
   "outputs": [],
   "source": []
  }
 ],
 "metadata": {
  "kernelspec": {
   "display_name": "Python 3",
   "language": "python",
   "name": "python3"
  }
 },
 "nbformat": 4,
 "nbformat_minor": 4
}
