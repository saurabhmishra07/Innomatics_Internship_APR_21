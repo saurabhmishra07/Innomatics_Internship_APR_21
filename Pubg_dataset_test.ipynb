{
 "cells": [
  {
   "cell_type": "markdown",
   "id": "2ec2d01f",
   "metadata": {},
   "source": [
    "<h1>Import Packages</h1>\n",
    "<h2>Import numpy</h2>\n",
    "<h2> Import pandas</h2>\n",
    "<h2> Import Matplotlib </h2>\n",
    "<h2> Import Scipy</h2>\n",
    "<h2> Import Math</h2>\n",
    "<h1> 1=DO unvariante and Bivariante analysis</h1>\n",
    "<H1>2=Some Research Questions</h1>\n",
    "<h1>3=observations</h1>"
   ]
  },
  {
   "cell_type": "code",
   "execution_count": 2,
   "id": "50fe021f",
   "metadata": {},
   "outputs": [],
   "source": [
    "import numpy as np\n",
    "import pandas as pd\n",
    "import matplotlib.pyplot as plt\n",
    "import seaborn as sns\n",
    "\n",
    "from scipy.stats import t\n",
    "from scipy.stats import norm"
   ]
  },
  {
   "cell_type": "markdown",
   "id": "da4bbef1",
   "metadata": {},
   "source": [
    "<h1>Import Pubg datasets</h1>"
   ]
  },
  {
   "cell_type": "code",
   "execution_count": 4,
   "id": "f85c93c7",
   "metadata": {},
   "outputs": [
    {
     "name": "stdout",
     "output_type": "stream",
     "text": [
      "         Unnamed: 0              Id         groupId         matchId  assists  \\\n",
      "0           2093518  a3e3cea9f2e314  c9f6eaa81245b5  a3d8693390584c        0   \n",
      "1           3701672  43e4be7ad72cc7  521836de101ee8  b65de9055327e0        0   \n",
      "2           2059784  9a68690e31fdff  4a72ffa2cebd90  d6aad3f9830e60        0   \n",
      "3           1302036  b147e1bd448fc4  9a8991656b3fea  d931c0932d8aca        0   \n",
      "4            297180  d818b4edd59612  eece87c8b846b3  ec2b5ed94baae3        0   \n",
      "...             ...             ...             ...             ...      ...   \n",
      "1111737     4209703  43739241d6a8e8  afb7c87045825e  ad5719d2422207        0   \n",
      "1111738     4311549  d57c8a22a9e38b  85e0624ddd2cb0  c3f50eef6dbb01        0   \n",
      "1111739     3521011  c7ad131758ba55  b3759687b385b3  990a8d68ec2bc4        0   \n",
      "1111740     2138826  8237d06ea2c508  13a05023ab7735  f93b1f0defaee5        1   \n",
      "1111741      609836  9beb0064c56445  5cfa1834dc5b11  0406ce4ab7a1bd        5   \n",
      "\n",
      "         boosts  damageDealt  DBNOs  headshotKills  heals  ...  revives  \\\n",
      "0             0        25.93      0              0      0  ...        0   \n",
      "1             0        36.71      0              0      0  ...        0   \n",
      "2             1        47.73      0              0      0  ...        0   \n",
      "3             0         0.00      0              0      0  ...        1   \n",
      "4             2       100.00      0              0      3  ...        0   \n",
      "...         ...          ...    ...            ...    ...  ...      ...   \n",
      "1111737       0        70.31      0              0      0  ...        0   \n",
      "1111738       3       334.10      0              0      1  ...        0   \n",
      "1111739       0       119.30      1              0      0  ...        0   \n",
      "1111740       4        53.51      1              0      7  ...        1   \n",
      "1111741       3       607.40      3              0      3  ...        0   \n",
      "\n",
      "         rideDistance  roadKills  swimDistance  teamKills  vehicleDestroys  \\\n",
      "0                 0.0          0         0.000          0                0   \n",
      "1                 0.0          0         0.000          0                0   \n",
      "2              4088.0          0         0.000          0                0   \n",
      "3                 0.0          0         0.000          0                0   \n",
      "4               918.4          0         0.000          0                0   \n",
      "...               ...        ...           ...        ...              ...   \n",
      "1111737           0.0          0         0.000          0                0   \n",
      "1111738        1549.0          0         0.000          0                0   \n",
      "1111739           0.0          0         0.000          0                0   \n",
      "1111740        3610.0          0         0.000          1                0   \n",
      "1111741         713.9          0         8.912          0                0   \n",
      "\n",
      "        walkDistance  weaponsAcquired  winPoints  winPlacePerc  \n",
      "0             151.30                1       1525        0.0667  \n",
      "1            1918.00                7       1516        0.5862  \n",
      "2             820.00                7          0        0.8105  \n",
      "3              38.81                0       1515        0.5556  \n",
      "4            1721.00                5          0        0.6429  \n",
      "...              ...              ...        ...           ...  \n",
      "1111737       799.80                2          0        0.3929  \n",
      "1111738      2777.00                7          0        0.8542  \n",
      "1111739        60.45                1          0        0.7174  \n",
      "1111740      2209.00                4          0        0.9000  \n",
      "1111741      3713.00                5       1611        1.0000  \n",
      "\n",
      "[1111742 rows x 30 columns]\n"
     ]
    }
   ],
   "source": [
    "data=pd.read_csv(\"pubg_dataset\")\n",
    "print(data)\n"
   ]
  },
  {
   "cell_type": "markdown",
   "id": "4219050c",
   "metadata": {},
   "source": [
    "<h1>View All Columns Names</h1>"
   ]
  },
  {
   "cell_type": "code",
   "execution_count": 5,
   "id": "34d36973",
   "metadata": {},
   "outputs": [
    {
     "data": {
      "text/plain": [
       "Index(['Unnamed: 0', 'Id', 'groupId', 'matchId', 'assists', 'boosts',\n",
       "       'damageDealt', 'DBNOs', 'headshotKills', 'heals', 'killPlace',\n",
       "       'killPoints', 'kills', 'killStreaks', 'longestKill', 'matchDuration',\n",
       "       'matchType', 'maxPlace', 'numGroups', 'rankPoints', 'revives',\n",
       "       'rideDistance', 'roadKills', 'swimDistance', 'teamKills',\n",
       "       'vehicleDestroys', 'walkDistance', 'weaponsAcquired', 'winPoints',\n",
       "       'winPlacePerc'],\n",
       "      dtype='object')"
      ]
     },
     "execution_count": 5,
     "metadata": {},
     "output_type": "execute_result"
    }
   ],
   "source": [
    "data.columns"
   ]
  },
  {
   "cell_type": "markdown",
   "id": "cc304081",
   "metadata": {},
   "source": [
    "<h1>View Shapes Of Pubg Datasets</h1>"
   ]
  },
  {
   "cell_type": "code",
   "execution_count": 6,
   "id": "e1d9c815",
   "metadata": {},
   "outputs": [
    {
     "data": {
      "text/plain": [
       "(1111742, 30)"
      ]
     },
     "execution_count": 6,
     "metadata": {},
     "output_type": "execute_result"
    }
   ],
   "source": [
    "data.shape"
   ]
  },
  {
   "cell_type": "code",
   "execution_count": 7,
   "id": "a1a70f34",
   "metadata": {},
   "outputs": [
    {
     "data": {
      "text/plain": [
       "<bound method NDFrame.describe of          Unnamed: 0              Id         groupId         matchId  assists  \\\n",
       "0           2093518  a3e3cea9f2e314  c9f6eaa81245b5  a3d8693390584c        0   \n",
       "1           3701672  43e4be7ad72cc7  521836de101ee8  b65de9055327e0        0   \n",
       "2           2059784  9a68690e31fdff  4a72ffa2cebd90  d6aad3f9830e60        0   \n",
       "3           1302036  b147e1bd448fc4  9a8991656b3fea  d931c0932d8aca        0   \n",
       "4            297180  d818b4edd59612  eece87c8b846b3  ec2b5ed94baae3        0   \n",
       "...             ...             ...             ...             ...      ...   \n",
       "1111737     4209703  43739241d6a8e8  afb7c87045825e  ad5719d2422207        0   \n",
       "1111738     4311549  d57c8a22a9e38b  85e0624ddd2cb0  c3f50eef6dbb01        0   \n",
       "1111739     3521011  c7ad131758ba55  b3759687b385b3  990a8d68ec2bc4        0   \n",
       "1111740     2138826  8237d06ea2c508  13a05023ab7735  f93b1f0defaee5        1   \n",
       "1111741      609836  9beb0064c56445  5cfa1834dc5b11  0406ce4ab7a1bd        5   \n",
       "\n",
       "         boosts  damageDealt  DBNOs  headshotKills  heals  ...  revives  \\\n",
       "0             0        25.93      0              0      0  ...        0   \n",
       "1             0        36.71      0              0      0  ...        0   \n",
       "2             1        47.73      0              0      0  ...        0   \n",
       "3             0         0.00      0              0      0  ...        1   \n",
       "4             2       100.00      0              0      3  ...        0   \n",
       "...         ...          ...    ...            ...    ...  ...      ...   \n",
       "1111737       0        70.31      0              0      0  ...        0   \n",
       "1111738       3       334.10      0              0      1  ...        0   \n",
       "1111739       0       119.30      1              0      0  ...        0   \n",
       "1111740       4        53.51      1              0      7  ...        1   \n",
       "1111741       3       607.40      3              0      3  ...        0   \n",
       "\n",
       "         rideDistance  roadKills  swimDistance  teamKills  vehicleDestroys  \\\n",
       "0                 0.0          0         0.000          0                0   \n",
       "1                 0.0          0         0.000          0                0   \n",
       "2              4088.0          0         0.000          0                0   \n",
       "3                 0.0          0         0.000          0                0   \n",
       "4               918.4          0         0.000          0                0   \n",
       "...               ...        ...           ...        ...              ...   \n",
       "1111737           0.0          0         0.000          0                0   \n",
       "1111738        1549.0          0         0.000          0                0   \n",
       "1111739           0.0          0         0.000          0                0   \n",
       "1111740        3610.0          0         0.000          1                0   \n",
       "1111741         713.9          0         8.912          0                0   \n",
       "\n",
       "        walkDistance  weaponsAcquired  winPoints  winPlacePerc  \n",
       "0             151.30                1       1525        0.0667  \n",
       "1            1918.00                7       1516        0.5862  \n",
       "2             820.00                7          0        0.8105  \n",
       "3              38.81                0       1515        0.5556  \n",
       "4            1721.00                5          0        0.6429  \n",
       "...              ...              ...        ...           ...  \n",
       "1111737       799.80                2          0        0.3929  \n",
       "1111738      2777.00                7          0        0.8542  \n",
       "1111739        60.45                1          0        0.7174  \n",
       "1111740      2209.00                4          0        0.9000  \n",
       "1111741      3713.00                5       1611        1.0000  \n",
       "\n",
       "[1111742 rows x 30 columns]>"
      ]
     },
     "execution_count": 7,
     "metadata": {},
     "output_type": "execute_result"
    }
   ],
   "source": [
    "data.describe"
   ]
  },
  {
   "cell_type": "markdown",
   "id": "9320262f",
   "metadata": {},
   "source": [
    "<h1>For First Five Table</h1>"
   ]
  },
  {
   "cell_type": "code",
   "execution_count": 8,
   "id": "6c2a4f88",
   "metadata": {},
   "outputs": [
    {
     "data": {
      "text/plain": [
       "<bound method NDFrame.head of          Unnamed: 0              Id         groupId         matchId  assists  \\\n",
       "0           2093518  a3e3cea9f2e314  c9f6eaa81245b5  a3d8693390584c        0   \n",
       "1           3701672  43e4be7ad72cc7  521836de101ee8  b65de9055327e0        0   \n",
       "2           2059784  9a68690e31fdff  4a72ffa2cebd90  d6aad3f9830e60        0   \n",
       "3           1302036  b147e1bd448fc4  9a8991656b3fea  d931c0932d8aca        0   \n",
       "4            297180  d818b4edd59612  eece87c8b846b3  ec2b5ed94baae3        0   \n",
       "...             ...             ...             ...             ...      ...   \n",
       "1111737     4209703  43739241d6a8e8  afb7c87045825e  ad5719d2422207        0   \n",
       "1111738     4311549  d57c8a22a9e38b  85e0624ddd2cb0  c3f50eef6dbb01        0   \n",
       "1111739     3521011  c7ad131758ba55  b3759687b385b3  990a8d68ec2bc4        0   \n",
       "1111740     2138826  8237d06ea2c508  13a05023ab7735  f93b1f0defaee5        1   \n",
       "1111741      609836  9beb0064c56445  5cfa1834dc5b11  0406ce4ab7a1bd        5   \n",
       "\n",
       "         boosts  damageDealt  DBNOs  headshotKills  heals  ...  revives  \\\n",
       "0             0        25.93      0              0      0  ...        0   \n",
       "1             0        36.71      0              0      0  ...        0   \n",
       "2             1        47.73      0              0      0  ...        0   \n",
       "3             0         0.00      0              0      0  ...        1   \n",
       "4             2       100.00      0              0      3  ...        0   \n",
       "...         ...          ...    ...            ...    ...  ...      ...   \n",
       "1111737       0        70.31      0              0      0  ...        0   \n",
       "1111738       3       334.10      0              0      1  ...        0   \n",
       "1111739       0       119.30      1              0      0  ...        0   \n",
       "1111740       4        53.51      1              0      7  ...        1   \n",
       "1111741       3       607.40      3              0      3  ...        0   \n",
       "\n",
       "         rideDistance  roadKills  swimDistance  teamKills  vehicleDestroys  \\\n",
       "0                 0.0          0         0.000          0                0   \n",
       "1                 0.0          0         0.000          0                0   \n",
       "2              4088.0          0         0.000          0                0   \n",
       "3                 0.0          0         0.000          0                0   \n",
       "4               918.4          0         0.000          0                0   \n",
       "...               ...        ...           ...        ...              ...   \n",
       "1111737           0.0          0         0.000          0                0   \n",
       "1111738        1549.0          0         0.000          0                0   \n",
       "1111739           0.0          0         0.000          0                0   \n",
       "1111740        3610.0          0         0.000          1                0   \n",
       "1111741         713.9          0         8.912          0                0   \n",
       "\n",
       "        walkDistance  weaponsAcquired  winPoints  winPlacePerc  \n",
       "0             151.30                1       1525        0.0667  \n",
       "1            1918.00                7       1516        0.5862  \n",
       "2             820.00                7          0        0.8105  \n",
       "3              38.81                0       1515        0.5556  \n",
       "4            1721.00                5          0        0.6429  \n",
       "...              ...              ...        ...           ...  \n",
       "1111737       799.80                2          0        0.3929  \n",
       "1111738      2777.00                7          0        0.8542  \n",
       "1111739        60.45                1          0        0.7174  \n",
       "1111740      2209.00                4          0        0.9000  \n",
       "1111741      3713.00                5       1611        1.0000  \n",
       "\n",
       "[1111742 rows x 30 columns]>"
      ]
     },
     "execution_count": 8,
     "metadata": {},
     "output_type": "execute_result"
    }
   ],
   "source": [
    "data.head"
   ]
  },
  {
   "cell_type": "markdown",
   "id": "fe151ccd",
   "metadata": {},
   "source": [
    "<h1>For Last Five Table</h1>"
   ]
  },
  {
   "cell_type": "code",
   "execution_count": 9,
   "id": "c93d2a84",
   "metadata": {},
   "outputs": [
    {
     "data": {
      "text/plain": [
       "<bound method NDFrame.tail of          Unnamed: 0              Id         groupId         matchId  assists  \\\n",
       "0           2093518  a3e3cea9f2e314  c9f6eaa81245b5  a3d8693390584c        0   \n",
       "1           3701672  43e4be7ad72cc7  521836de101ee8  b65de9055327e0        0   \n",
       "2           2059784  9a68690e31fdff  4a72ffa2cebd90  d6aad3f9830e60        0   \n",
       "3           1302036  b147e1bd448fc4  9a8991656b3fea  d931c0932d8aca        0   \n",
       "4            297180  d818b4edd59612  eece87c8b846b3  ec2b5ed94baae3        0   \n",
       "...             ...             ...             ...             ...      ...   \n",
       "1111737     4209703  43739241d6a8e8  afb7c87045825e  ad5719d2422207        0   \n",
       "1111738     4311549  d57c8a22a9e38b  85e0624ddd2cb0  c3f50eef6dbb01        0   \n",
       "1111739     3521011  c7ad131758ba55  b3759687b385b3  990a8d68ec2bc4        0   \n",
       "1111740     2138826  8237d06ea2c508  13a05023ab7735  f93b1f0defaee5        1   \n",
       "1111741      609836  9beb0064c56445  5cfa1834dc5b11  0406ce4ab7a1bd        5   \n",
       "\n",
       "         boosts  damageDealt  DBNOs  headshotKills  heals  ...  revives  \\\n",
       "0             0        25.93      0              0      0  ...        0   \n",
       "1             0        36.71      0              0      0  ...        0   \n",
       "2             1        47.73      0              0      0  ...        0   \n",
       "3             0         0.00      0              0      0  ...        1   \n",
       "4             2       100.00      0              0      3  ...        0   \n",
       "...         ...          ...    ...            ...    ...  ...      ...   \n",
       "1111737       0        70.31      0              0      0  ...        0   \n",
       "1111738       3       334.10      0              0      1  ...        0   \n",
       "1111739       0       119.30      1              0      0  ...        0   \n",
       "1111740       4        53.51      1              0      7  ...        1   \n",
       "1111741       3       607.40      3              0      3  ...        0   \n",
       "\n",
       "         rideDistance  roadKills  swimDistance  teamKills  vehicleDestroys  \\\n",
       "0                 0.0          0         0.000          0                0   \n",
       "1                 0.0          0         0.000          0                0   \n",
       "2              4088.0          0         0.000          0                0   \n",
       "3                 0.0          0         0.000          0                0   \n",
       "4               918.4          0         0.000          0                0   \n",
       "...               ...        ...           ...        ...              ...   \n",
       "1111737           0.0          0         0.000          0                0   \n",
       "1111738        1549.0          0         0.000          0                0   \n",
       "1111739           0.0          0         0.000          0                0   \n",
       "1111740        3610.0          0         0.000          1                0   \n",
       "1111741         713.9          0         8.912          0                0   \n",
       "\n",
       "        walkDistance  weaponsAcquired  winPoints  winPlacePerc  \n",
       "0             151.30                1       1525        0.0667  \n",
       "1            1918.00                7       1516        0.5862  \n",
       "2             820.00                7          0        0.8105  \n",
       "3              38.81                0       1515        0.5556  \n",
       "4            1721.00                5          0        0.6429  \n",
       "...              ...              ...        ...           ...  \n",
       "1111737       799.80                2          0        0.3929  \n",
       "1111738      2777.00                7          0        0.8542  \n",
       "1111739        60.45                1          0        0.7174  \n",
       "1111740      2209.00                4          0        0.9000  \n",
       "1111741      3713.00                5       1611        1.0000  \n",
       "\n",
       "[1111742 rows x 30 columns]>"
      ]
     },
     "execution_count": 9,
     "metadata": {},
     "output_type": "execute_result"
    }
   ],
   "source": [
    "data.tail"
   ]
  },
  {
   "cell_type": "markdown",
   "id": "0936de6f",
   "metadata": {},
   "source": [
    "<H1>Informations About Pubg Game if anyone don't know about that games you can  takes information from here</h1>"
   ]
  },
  {
   "cell_type": "markdown",
   "id": "7d547561",
   "metadata": {},
   "source": [
    "<h3>DBNOs - Number of enemy players knocked.</h3>\n",
    "<h3>assists - Number of enemy players this player damaged that were killed by teammates.</h3>\n",
    "<h3>boosts - Number of boost items used.</h3>\n",
    "<h3>damageDealt - Total damage dealt. Note: Self inflicted damage is subtracted.</h3>\n",
    "<h3>headshotKills - Number of enemy players killed with headshots.</h3>\n",
    "<h3>heals - Number of healing items used.</h3>\n",
    "<h3>Id - Player’s Id</h3>\n",
    "<h3>killPlace - Ranking in match of number of enemy players killed.</h3>\n",
    "<h3>killPoints - Kills-based external ranking of players. (Think of this as an Elo ranking where only kills matter.) If there is a value other than -1 in rankPoints, then any 0 in killPoints should be treated as a “None”.</h3>\n",
    "<h3>killStreaks - Max number of enemy players killed in a short amount of time</h3>\n",
    "<h3>kills - Number of enemy players killed.</h3>\n",
    "<h3>longestKill - Longest distance between player and player killed at time of death. This may be misleading, as downing a player and driving away may lead to a large longestKill stat.</h3>\n",
    "<h3>matchDuration - Duration of match in seconds.</h3>\n",
    "<h3>matchId - ID to identify matches. There are no matches that are in both the training and testing set.</h3>\n",
    "<h3>matchType - String identifying the game mode that the data comes from. The standard modes are “solo”, “duo”, “squad”, “solo-fpp”, “duo-fpp”, and “squad-fpp”; other modes are from events or custom matches.</h3>\n",
    "<h3>rankPoints - Elo-like ranking of players. This ranking is inconsistent and is being deprecated in the API’s next version, so use with caution. Value of -1 takes the place of “None”.</h3>\n",
    "<h3>revives - Number of times this player revived teammates.</h3>\n",
    "<h3>rideDistance - Total distance traveled in vehicles measured in meters.</h3>\n",
    "<h3>roadKills - Number of kills while in a vehicle.</h3>\n",
    "<h3>swimDistance - Total distance traveled by swimming measured in meters.</h3>\n",
    "<h3>teamKills - Number of times this player killed a teammate.</h3>\n",
    "<h3>vehicleDestroys - Number of vehicles destroyed.</h3>\n",
    "<h3>walkDistance - Total distance traveled on foot measured in meters.</h3>\n",
    "<h3>weaponsAcquired - Number of weapons picked up.</h3>\n",
    "<h3>winPoints - Win-based external ranking of players. (Think of this as an Elo ranking where only winning matters.) If there is a value other than -1 in rankPoints, then any 0 in winPoints should be treated as a “None”.</h3>\n",
    "<h3>groupId - ID to identify a group within a match. If the same group of players plays in different matches, they will have a different groupId each time.</h3>\n",
    "<h3>numGroups - Number of groups we have data for in the match.</h3>\n",
    "<h3>maxPlace - Worst placement we have data for in the match. This may not match with numGroups, as sometimes the data skips over placements.</h3>\n",
    "<h3>winPlacePerc - The target of prediction. This is a percentile winning placement, where 1 corresponds to 1st place, and 0 corresponds to last place in the match. It is calculated off of maxPlace, not numGroups, so it is possible to have missing chunks in a match.</h3>\n"
   ]
  },
  {
   "cell_type": "markdown",
   "id": "27625a87",
   "metadata": {},
   "source": [
    "<h1>Univariante Analysis</h1>\n"
   ]
  },
  {
   "cell_type": "markdown",
   "id": "d1805652",
   "metadata": {},
   "source": [
    "<h1>Finding some null values in winPlacePerc</h1>"
   ]
  },
  {
   "cell_type": "code",
   "execution_count": 11,
   "id": "ca8f9349",
   "metadata": {},
   "outputs": [
    {
     "data": {
      "text/html": [
       "<div>\n",
       "<style scoped>\n",
       "    .dataframe tbody tr th:only-of-type {\n",
       "        vertical-align: middle;\n",
       "    }\n",
       "\n",
       "    .dataframe tbody tr th {\n",
       "        vertical-align: top;\n",
       "    }\n",
       "\n",
       "    .dataframe thead th {\n",
       "        text-align: right;\n",
       "    }\n",
       "</style>\n",
       "<table border=\"1\" class=\"dataframe\">\n",
       "  <thead>\n",
       "    <tr style=\"text-align: right;\">\n",
       "      <th></th>\n",
       "      <th>Unnamed: 0</th>\n",
       "      <th>Id</th>\n",
       "      <th>groupId</th>\n",
       "      <th>matchId</th>\n",
       "      <th>assists</th>\n",
       "      <th>boosts</th>\n",
       "      <th>damageDealt</th>\n",
       "      <th>DBNOs</th>\n",
       "      <th>headshotKills</th>\n",
       "      <th>heals</th>\n",
       "      <th>...</th>\n",
       "      <th>revives</th>\n",
       "      <th>rideDistance</th>\n",
       "      <th>roadKills</th>\n",
       "      <th>swimDistance</th>\n",
       "      <th>teamKills</th>\n",
       "      <th>vehicleDestroys</th>\n",
       "      <th>walkDistance</th>\n",
       "      <th>weaponsAcquired</th>\n",
       "      <th>winPoints</th>\n",
       "      <th>winPlacePerc</th>\n",
       "    </tr>\n",
       "  </thead>\n",
       "  <tbody>\n",
       "    <tr>\n",
       "      <th>184895</th>\n",
       "      <td>2744604</td>\n",
       "      <td>f70c74418bb064</td>\n",
       "      <td>12dfbede33f92b</td>\n",
       "      <td>224a123c53e008</td>\n",
       "      <td>0</td>\n",
       "      <td>0</td>\n",
       "      <td>0.0</td>\n",
       "      <td>0</td>\n",
       "      <td>0</td>\n",
       "      <td>0</td>\n",
       "      <td>...</td>\n",
       "      <td>0</td>\n",
       "      <td>0.0</td>\n",
       "      <td>0</td>\n",
       "      <td>0.0</td>\n",
       "      <td>0</td>\n",
       "      <td>0</td>\n",
       "      <td>0.0</td>\n",
       "      <td>0</td>\n",
       "      <td>0</td>\n",
       "      <td>NaN</td>\n",
       "    </tr>\n",
       "  </tbody>\n",
       "</table>\n",
       "<p>1 rows × 30 columns</p>\n",
       "</div>"
      ],
      "text/plain": [
       "        Unnamed: 0              Id         groupId         matchId  assists  \\\n",
       "184895     2744604  f70c74418bb064  12dfbede33f92b  224a123c53e008        0   \n",
       "\n",
       "        boosts  damageDealt  DBNOs  headshotKills  heals  ...  revives  \\\n",
       "184895       0          0.0      0              0      0  ...        0   \n",
       "\n",
       "        rideDistance  roadKills  swimDistance  teamKills  vehicleDestroys  \\\n",
       "184895           0.0          0           0.0          0                0   \n",
       "\n",
       "       walkDistance  weaponsAcquired  winPoints  winPlacePerc  \n",
       "184895          0.0                0          0           NaN  \n",
       "\n",
       "[1 rows x 30 columns]"
      ]
     },
     "execution_count": 11,
     "metadata": {},
     "output_type": "execute_result"
    }
   ],
   "source": [
    "data[data['winPlacePerc'].isnull()]"
   ]
  },
  {
   "cell_type": "markdown",
   "id": "95098ea3",
   "metadata": {},
   "source": [
    "<h3>I findout only 1 null values columns in winPlacePerc</h3>"
   ]
  },
  {
   "cell_type": "code",
   "execution_count": 19,
   "id": "a003ec64",
   "metadata": {},
   "outputs": [
    {
     "name": "stdout",
     "output_type": "stream",
     "text": [
      "0          0.0\n",
      "1          0.0\n",
      "2          0.0\n",
      "3          0.0\n",
      "4          0.0\n",
      "          ... \n",
      "1111737    0.0\n",
      "1111738    0.0\n",
      "1111739    0.0\n",
      "1111740    0.0\n",
      "1111741    0.0\n",
      "Name: headshot_rate, Length: 1111742, dtype: float64\n"
     ]
    }
   ],
   "source": [
    "data['headshot_rate'] = data['headshotKills'] / data['kills']\n",
    "data['headshot_rate'] = data['headshot_rate'].fillna(0)\n",
    "print(data['headshot_rate'])"
   ]
  },
  {
   "cell_type": "markdown",
   "id": "5054d946",
   "metadata": {},
   "source": [
    "<h2>Displays swim distances</h2>\n"
   ]
  },
  {
   "cell_type": "code",
   "execution_count": 23,
   "id": "c3205904",
   "metadata": {},
   "outputs": [
    {
     "data": {
      "text/plain": [
       "(1, 36)"
      ]
     },
     "metadata": {},
     "output_type": "display_data"
    },
    {
     "data": {
      "text/html": [
       "<div>\n",
       "<style scoped>\n",
       "    .dataframe tbody tr th:only-of-type {\n",
       "        vertical-align: middle;\n",
       "    }\n",
       "\n",
       "    .dataframe tbody tr th {\n",
       "        vertical-align: top;\n",
       "    }\n",
       "\n",
       "    .dataframe thead th {\n",
       "        text-align: right;\n",
       "    }\n",
       "</style>\n",
       "<table border=\"1\" class=\"dataframe\">\n",
       "  <thead>\n",
       "    <tr style=\"text-align: right;\">\n",
       "      <th></th>\n",
       "      <th>Unnamed: 0</th>\n",
       "      <th>Id</th>\n",
       "      <th>groupId</th>\n",
       "      <th>matchId</th>\n",
       "      <th>assists</th>\n",
       "      <th>boosts</th>\n",
       "      <th>damageDealt</th>\n",
       "      <th>DBNOs</th>\n",
       "      <th>headshotKills</th>\n",
       "      <th>heals</th>\n",
       "      <th>...</th>\n",
       "      <th>walkDistance</th>\n",
       "      <th>weaponsAcquired</th>\n",
       "      <th>winPoints</th>\n",
       "      <th>winPlacePerc</th>\n",
       "      <th>playersJoined</th>\n",
       "      <th>killsNorm</th>\n",
       "      <th>damageDealtNorm</th>\n",
       "      <th>maxPlaceNorm</th>\n",
       "      <th>matchDurationNorm</th>\n",
       "      <th>headshot_rate</th>\n",
       "    </tr>\n",
       "  </thead>\n",
       "  <tbody>\n",
       "    <tr>\n",
       "      <th>702218</th>\n",
       "      <td>127125</td>\n",
       "      <td>0a9dd2e693ff09</td>\n",
       "      <td>ff12002628925c</td>\n",
       "      <td>3387941bda6edd</td>\n",
       "      <td>0</td>\n",
       "      <td>2</td>\n",
       "      <td>392.0</td>\n",
       "      <td>4</td>\n",
       "      <td>2</td>\n",
       "      <td>0</td>\n",
       "      <td>...</td>\n",
       "      <td>1536.0</td>\n",
       "      <td>3</td>\n",
       "      <td>1396</td>\n",
       "      <td>0.4286</td>\n",
       "      <td>14</td>\n",
       "      <td>3.72</td>\n",
       "      <td>729.12</td>\n",
       "      <td>53.94</td>\n",
       "      <td>2511.0</td>\n",
       "      <td>1.0</td>\n",
       "    </tr>\n",
       "  </tbody>\n",
       "</table>\n",
       "<p>1 rows × 36 columns</p>\n",
       "</div>"
      ],
      "text/plain": [
       "        Unnamed: 0              Id         groupId         matchId  assists  \\\n",
       "702218      127125  0a9dd2e693ff09  ff12002628925c  3387941bda6edd        0   \n",
       "\n",
       "        boosts  damageDealt  DBNOs  headshotKills  heals  ...  walkDistance  \\\n",
       "702218       2        392.0      4              2      0  ...        1536.0   \n",
       "\n",
       "        weaponsAcquired  winPoints  winPlacePerc  playersJoined  killsNorm  \\\n",
       "702218                3       1396        0.4286             14       3.72   \n",
       "\n",
       "       damageDealtNorm  maxPlaceNorm  matchDurationNorm  headshot_rate  \n",
       "702218          729.12         53.94             2511.0            1.0  \n",
       "\n",
       "[1 rows x 36 columns]"
      ]
     },
     "execution_count": 23,
     "metadata": {},
     "output_type": "execute_result"
    }
   ],
   "source": [
    "display(data[data['swimDistance'] == True].shape)\n",
    "data[data['swimDistance'] == True]"
   ]
  },
  {
   "cell_type": "markdown",
   "id": "876f9b14",
   "metadata": {},
   "source": [
    "<h3>Players who got more than 10 Kills</h3>"
   ]
  },
  {
   "cell_type": "code",
   "execution_count": 27,
   "id": "0e3c7d90",
   "metadata": {},
   "outputs": [
    {
     "data": {
      "text/html": [
       "<div>\n",
       "<style scoped>\n",
       "    .dataframe tbody tr th:only-of-type {\n",
       "        vertical-align: middle;\n",
       "    }\n",
       "\n",
       "    .dataframe tbody tr th {\n",
       "        vertical-align: top;\n",
       "    }\n",
       "\n",
       "    .dataframe thead th {\n",
       "        text-align: right;\n",
       "    }\n",
       "</style>\n",
       "<table border=\"1\" class=\"dataframe\">\n",
       "  <thead>\n",
       "    <tr style=\"text-align: right;\">\n",
       "      <th></th>\n",
       "      <th>Unnamed: 0</th>\n",
       "      <th>Id</th>\n",
       "      <th>groupId</th>\n",
       "      <th>matchId</th>\n",
       "      <th>assists</th>\n",
       "      <th>boosts</th>\n",
       "      <th>damageDealt</th>\n",
       "      <th>DBNOs</th>\n",
       "      <th>headshotKills</th>\n",
       "      <th>heals</th>\n",
       "      <th>...</th>\n",
       "      <th>walkDistance</th>\n",
       "      <th>weaponsAcquired</th>\n",
       "      <th>winPoints</th>\n",
       "      <th>winPlacePerc</th>\n",
       "      <th>playersJoined</th>\n",
       "      <th>killsNorm</th>\n",
       "      <th>damageDealtNorm</th>\n",
       "      <th>maxPlaceNorm</th>\n",
       "      <th>matchDurationNorm</th>\n",
       "      <th>headshot_rate</th>\n",
       "    </tr>\n",
       "  </thead>\n",
       "  <tbody>\n",
       "    <tr>\n",
       "      <th>910</th>\n",
       "      <td>3944024</td>\n",
       "      <td>596e8290704a01</td>\n",
       "      <td>8aead23a757423</td>\n",
       "      <td>1cb8b2303a03e6</td>\n",
       "      <td>1</td>\n",
       "      <td>5</td>\n",
       "      <td>1478.0</td>\n",
       "      <td>9</td>\n",
       "      <td>5</td>\n",
       "      <td>6</td>\n",
       "      <td>...</td>\n",
       "      <td>1902.00</td>\n",
       "      <td>3</td>\n",
       "      <td>0</td>\n",
       "      <td>0.9259</td>\n",
       "      <td>26</td>\n",
       "      <td>22.62</td>\n",
       "      <td>2571.720</td>\n",
       "      <td>48.72</td>\n",
       "      <td>2300.28</td>\n",
       "      <td>0.384615</td>\n",
       "    </tr>\n",
       "    <tr>\n",
       "      <th>1104</th>\n",
       "      <td>2151979</td>\n",
       "      <td>037b5e0030ff51</td>\n",
       "      <td>a4026b5e76acaa</td>\n",
       "      <td>128eabb50c5e4e</td>\n",
       "      <td>5</td>\n",
       "      <td>10</td>\n",
       "      <td>1425.0</td>\n",
       "      <td>7</td>\n",
       "      <td>0</td>\n",
       "      <td>9</td>\n",
       "      <td>...</td>\n",
       "      <td>2604.00</td>\n",
       "      <td>6</td>\n",
       "      <td>1784</td>\n",
       "      <td>1.0000</td>\n",
       "      <td>23</td>\n",
       "      <td>21.24</td>\n",
       "      <td>2522.250</td>\n",
       "      <td>47.79</td>\n",
       "      <td>3313.44</td>\n",
       "      <td>0.000000</td>\n",
       "    </tr>\n",
       "    <tr>\n",
       "      <th>2555</th>\n",
       "      <td>528126</td>\n",
       "      <td>e762d99a9f39f7</td>\n",
       "      <td>e04ba75ffdb6a2</td>\n",
       "      <td>f3e59840dda0e3</td>\n",
       "      <td>1</td>\n",
       "      <td>7</td>\n",
       "      <td>881.8</td>\n",
       "      <td>5</td>\n",
       "      <td>2</td>\n",
       "      <td>8</td>\n",
       "      <td>...</td>\n",
       "      <td>3362.00</td>\n",
       "      <td>3</td>\n",
       "      <td>0</td>\n",
       "      <td>1.0000</td>\n",
       "      <td>32</td>\n",
       "      <td>20.16</td>\n",
       "      <td>1481.424</td>\n",
       "      <td>80.64</td>\n",
       "      <td>2259.60</td>\n",
       "      <td>0.166667</td>\n",
       "    </tr>\n",
       "    <tr>\n",
       "      <th>2997</th>\n",
       "      <td>468370</td>\n",
       "      <td>513b919b3f49e9</td>\n",
       "      <td>76f63e48723427</td>\n",
       "      <td>c609031c4d0eb6</td>\n",
       "      <td>1</td>\n",
       "      <td>7</td>\n",
       "      <td>948.2</td>\n",
       "      <td>12</td>\n",
       "      <td>3</td>\n",
       "      <td>6</td>\n",
       "      <td>...</td>\n",
       "      <td>1854.00</td>\n",
       "      <td>9</td>\n",
       "      <td>0</td>\n",
       "      <td>0.7500</td>\n",
       "      <td>21</td>\n",
       "      <td>21.48</td>\n",
       "      <td>1697.278</td>\n",
       "      <td>51.91</td>\n",
       "      <td>3356.25</td>\n",
       "      <td>0.250000</td>\n",
       "    </tr>\n",
       "    <tr>\n",
       "      <th>3101</th>\n",
       "      <td>3847935</td>\n",
       "      <td>06b9609d1d3e85</td>\n",
       "      <td>1e099242a79e5e</td>\n",
       "      <td>81d2b3eefbdddf</td>\n",
       "      <td>1</td>\n",
       "      <td>6</td>\n",
       "      <td>940.3</td>\n",
       "      <td>5</td>\n",
       "      <td>3</td>\n",
       "      <td>2</td>\n",
       "      <td>...</td>\n",
       "      <td>2986.00</td>\n",
       "      <td>6</td>\n",
       "      <td>1500</td>\n",
       "      <td>1.0000</td>\n",
       "      <td>30</td>\n",
       "      <td>18.70</td>\n",
       "      <td>1598.510</td>\n",
       "      <td>83.30</td>\n",
       "      <td>2225.30</td>\n",
       "      <td>0.272727</td>\n",
       "    </tr>\n",
       "    <tr>\n",
       "      <th>...</th>\n",
       "      <td>...</td>\n",
       "      <td>...</td>\n",
       "      <td>...</td>\n",
       "      <td>...</td>\n",
       "      <td>...</td>\n",
       "      <td>...</td>\n",
       "      <td>...</td>\n",
       "      <td>...</td>\n",
       "      <td>...</td>\n",
       "      <td>...</td>\n",
       "      <td>...</td>\n",
       "      <td>...</td>\n",
       "      <td>...</td>\n",
       "      <td>...</td>\n",
       "      <td>...</td>\n",
       "      <td>...</td>\n",
       "      <td>...</td>\n",
       "      <td>...</td>\n",
       "      <td>...</td>\n",
       "      <td>...</td>\n",
       "      <td>...</td>\n",
       "    </tr>\n",
       "    <tr>\n",
       "      <th>1110069</th>\n",
       "      <td>3655239</td>\n",
       "      <td>292a306e086305</td>\n",
       "      <td>38d3784037cc96</td>\n",
       "      <td>95dad2c0965b1a</td>\n",
       "      <td>0</td>\n",
       "      <td>2</td>\n",
       "      <td>779.4</td>\n",
       "      <td>7</td>\n",
       "      <td>3</td>\n",
       "      <td>3</td>\n",
       "      <td>...</td>\n",
       "      <td>1550.00</td>\n",
       "      <td>3</td>\n",
       "      <td>0</td>\n",
       "      <td>0.7692</td>\n",
       "      <td>18</td>\n",
       "      <td>20.02</td>\n",
       "      <td>1418.508</td>\n",
       "      <td>49.14</td>\n",
       "      <td>2471.56</td>\n",
       "      <td>0.272727</td>\n",
       "    </tr>\n",
       "    <tr>\n",
       "      <th>1110599</th>\n",
       "      <td>4440200</td>\n",
       "      <td>9cd86df50ed0ab</td>\n",
       "      <td>1eb519c83cbd33</td>\n",
       "      <td>40277ba9cb96f8</td>\n",
       "      <td>0</td>\n",
       "      <td>7</td>\n",
       "      <td>929.2</td>\n",
       "      <td>0</td>\n",
       "      <td>6</td>\n",
       "      <td>5</td>\n",
       "      <td>...</td>\n",
       "      <td>2461.00</td>\n",
       "      <td>6</td>\n",
       "      <td>0</td>\n",
       "      <td>0.9794</td>\n",
       "      <td>31</td>\n",
       "      <td>18.59</td>\n",
       "      <td>1570.348</td>\n",
       "      <td>165.62</td>\n",
       "      <td>2409.94</td>\n",
       "      <td>0.545455</td>\n",
       "    </tr>\n",
       "    <tr>\n",
       "      <th>1111385</th>\n",
       "      <td>2399949</td>\n",
       "      <td>6907873545a226</td>\n",
       "      <td>76047e5c787218</td>\n",
       "      <td>dbf34301df5e53</td>\n",
       "      <td>0</td>\n",
       "      <td>0</td>\n",
       "      <td>1162.0</td>\n",
       "      <td>0</td>\n",
       "      <td>4</td>\n",
       "      <td>3</td>\n",
       "      <td>...</td>\n",
       "      <td>627.00</td>\n",
       "      <td>16</td>\n",
       "      <td>1500</td>\n",
       "      <td>0.7778</td>\n",
       "      <td>17</td>\n",
       "      <td>20.13</td>\n",
       "      <td>2126.460</td>\n",
       "      <td>34.77</td>\n",
       "      <td>1462.17</td>\n",
       "      <td>0.363636</td>\n",
       "    </tr>\n",
       "    <tr>\n",
       "      <th>1111533</th>\n",
       "      <td>785727</td>\n",
       "      <td>a59eca69d3b2cc</td>\n",
       "      <td>cb952d38e8f359</td>\n",
       "      <td>35b0b5b2df89e8</td>\n",
       "      <td>0</td>\n",
       "      <td>9</td>\n",
       "      <td>957.1</td>\n",
       "      <td>0</td>\n",
       "      <td>6</td>\n",
       "      <td>5</td>\n",
       "      <td>...</td>\n",
       "      <td>3482.00</td>\n",
       "      <td>11</td>\n",
       "      <td>1542</td>\n",
       "      <td>1.0000</td>\n",
       "      <td>30</td>\n",
       "      <td>18.70</td>\n",
       "      <td>1627.070</td>\n",
       "      <td>163.20</td>\n",
       "      <td>3233.40</td>\n",
       "      <td>0.545455</td>\n",
       "    </tr>\n",
       "    <tr>\n",
       "      <th>1111608</th>\n",
       "      <td>1619518</td>\n",
       "      <td>df1572cbc3475c</td>\n",
       "      <td>3fc70dff8cda76</td>\n",
       "      <td>664dee9ed8f646</td>\n",
       "      <td>2</td>\n",
       "      <td>0</td>\n",
       "      <td>1061.0</td>\n",
       "      <td>0</td>\n",
       "      <td>6</td>\n",
       "      <td>4</td>\n",
       "      <td>...</td>\n",
       "      <td>46.25</td>\n",
       "      <td>15</td>\n",
       "      <td>0</td>\n",
       "      <td>0.7500</td>\n",
       "      <td>9</td>\n",
       "      <td>22.92</td>\n",
       "      <td>2026.510</td>\n",
       "      <td>9.55</td>\n",
       "      <td>1579.57</td>\n",
       "      <td>0.500000</td>\n",
       "    </tr>\n",
       "  </tbody>\n",
       "</table>\n",
       "<p>2144 rows × 36 columns</p>\n",
       "</div>"
      ],
      "text/plain": [
       "         Unnamed: 0              Id         groupId         matchId  assists  \\\n",
       "910         3944024  596e8290704a01  8aead23a757423  1cb8b2303a03e6        1   \n",
       "1104        2151979  037b5e0030ff51  a4026b5e76acaa  128eabb50c5e4e        5   \n",
       "2555         528126  e762d99a9f39f7  e04ba75ffdb6a2  f3e59840dda0e3        1   \n",
       "2997         468370  513b919b3f49e9  76f63e48723427  c609031c4d0eb6        1   \n",
       "3101        3847935  06b9609d1d3e85  1e099242a79e5e  81d2b3eefbdddf        1   \n",
       "...             ...             ...             ...             ...      ...   \n",
       "1110069     3655239  292a306e086305  38d3784037cc96  95dad2c0965b1a        0   \n",
       "1110599     4440200  9cd86df50ed0ab  1eb519c83cbd33  40277ba9cb96f8        0   \n",
       "1111385     2399949  6907873545a226  76047e5c787218  dbf34301df5e53        0   \n",
       "1111533      785727  a59eca69d3b2cc  cb952d38e8f359  35b0b5b2df89e8        0   \n",
       "1111608     1619518  df1572cbc3475c  3fc70dff8cda76  664dee9ed8f646        2   \n",
       "\n",
       "         boosts  damageDealt  DBNOs  headshotKills  heals  ...  walkDistance  \\\n",
       "910           5       1478.0      9              5      6  ...       1902.00   \n",
       "1104         10       1425.0      7              0      9  ...       2604.00   \n",
       "2555          7        881.8      5              2      8  ...       3362.00   \n",
       "2997          7        948.2     12              3      6  ...       1854.00   \n",
       "3101          6        940.3      5              3      2  ...       2986.00   \n",
       "...         ...          ...    ...            ...    ...  ...           ...   \n",
       "1110069       2        779.4      7              3      3  ...       1550.00   \n",
       "1110599       7        929.2      0              6      5  ...       2461.00   \n",
       "1111385       0       1162.0      0              4      3  ...        627.00   \n",
       "1111533       9        957.1      0              6      5  ...       3482.00   \n",
       "1111608       0       1061.0      0              6      4  ...         46.25   \n",
       "\n",
       "         weaponsAcquired  winPoints  winPlacePerc  playersJoined  killsNorm  \\\n",
       "910                    3          0        0.9259             26      22.62   \n",
       "1104                   6       1784        1.0000             23      21.24   \n",
       "2555                   3          0        1.0000             32      20.16   \n",
       "2997                   9          0        0.7500             21      21.48   \n",
       "3101                   6       1500        1.0000             30      18.70   \n",
       "...                  ...        ...           ...            ...        ...   \n",
       "1110069                3          0        0.7692             18      20.02   \n",
       "1110599                6          0        0.9794             31      18.59   \n",
       "1111385               16       1500        0.7778             17      20.13   \n",
       "1111533               11       1542        1.0000             30      18.70   \n",
       "1111608               15          0        0.7500              9      22.92   \n",
       "\n",
       "        damageDealtNorm  maxPlaceNorm  matchDurationNorm  headshot_rate  \n",
       "910            2571.720         48.72            2300.28       0.384615  \n",
       "1104           2522.250         47.79            3313.44       0.000000  \n",
       "2555           1481.424         80.64            2259.60       0.166667  \n",
       "2997           1697.278         51.91            3356.25       0.250000  \n",
       "3101           1598.510         83.30            2225.30       0.272727  \n",
       "...                 ...           ...                ...            ...  \n",
       "1110069        1418.508         49.14            2471.56       0.272727  \n",
       "1110599        1570.348        165.62            2409.94       0.545455  \n",
       "1111385        2126.460         34.77            1462.17       0.363636  \n",
       "1111533        1627.070        163.20            3233.40       0.545455  \n",
       "1111608        2026.510          9.55            1579.57       0.500000  \n",
       "\n",
       "[2144 rows x 36 columns]"
      ]
     },
     "execution_count": 27,
     "metadata": {},
     "output_type": "execute_result"
    }
   ],
   "source": [
    "data[data['kills'] > 10]"
   ]
  },
  {
   "cell_type": "markdown",
   "id": "9d526a2e",
   "metadata": {},
   "source": [
    "<h3>Observations</h3> \n",
    "<p>In this observations shows that there is 2144 players whose kills is more than 10</p>"
   ]
  },
  {
   "cell_type": "markdown",
   "id": "b165fc0f",
   "metadata": {},
   "source": [
    "<h1>Countplots</h1>"
   ]
  },
  {
   "cell_type": "code",
   "execution_count": 29,
   "id": "33234994",
   "metadata": {},
   "outputs": [
    {
     "data": {
      "image/png": "[encoded data removed]",
      "text/plain": [
       "<Figure size 432x288 with 1 Axes>"
      ]
     },
     "metadata": {
      "needs_background": "light"
     },
     "output_type": "display_data"
    }
   ],
   "source": [
    "sns.countplot(data=data, x=data['kills']).set_title('Kills')\n",
    "plt.show()"
   ]
  },
  {
   "cell_type": "code",
   "execution_count": 30,
   "id": "6c898c97",
   "metadata": {},
   "outputs": [
    {
     "data": {
      "text/plain": [
       "Index(['Unnamed: 0', 'Id', 'groupId', 'matchId', 'assists', 'boosts',\n",
       "       'damageDealt', 'DBNOs', 'headshotKills', 'heals', 'killPlace',\n",
       "       'killPoints', 'kills', 'killStreaks', 'longestKill', 'matchDuration',\n",
       "       'matchType', 'maxPlace', 'numGroups', 'rankPoints', 'revives',\n",
       "       'rideDistance', 'roadKills', 'swimDistance', 'teamKills',\n",
       "       'vehicleDestroys', 'walkDistance', 'weaponsAcquired', 'winPoints',\n",
       "       'winPlacePerc', 'playersJoined', 'killsNorm', 'damageDealtNorm',\n",
       "       'maxPlaceNorm', 'matchDurationNorm', 'headshot_rate'],\n",
       "      dtype='object')"
      ]
     },
     "execution_count": 30,
     "metadata": {},
     "output_type": "execute_result"
    }
   ],
   "source": [
    "data.columns\n"
   ]
  },
  {
   "cell_type": "markdown",
   "id": "9b10096b",
   "metadata": {},
   "source": [
    "<h3>I am a Lazy person and I don't want to up and down the scrollbar that's why I again print column name</h3>"
   ]
  },
  {
   "cell_type": "code",
   "execution_count": 31,
   "id": "68d3097b",
   "metadata": {},
   "outputs": [
    {
     "data": {
      "image/png": "[encoded data removed]",
      "text/plain": [
       "<Figure size 432x288 with 1 Axes>"
      ]
     },
     "metadata": {
      "needs_background": "light"
     },
     "output_type": "display_data"
    }
   ],
   "source": [
    "sns.countplot(data=data, x=data['killPoints']).set_title('KillPoints')\n",
    "plt.show()"
   ]
  },
  {
   "cell_type": "code",
   "execution_count": 32,
   "id": "7594b783",
   "metadata": {},
   "outputs": [
    {
     "data": {
      "image/png": "[encoded data removed]",
      "text/plain": [
       "<Figure size 432x288 with 1 Axes>"
      ]
     },
     "metadata": {
      "needs_background": "light"
     },
     "output_type": "display_data"
    }
   ],
   "source": [
    "sns.countplot(data=data, x=data['teamKills']).set_title('teamKills')\n",
    "plt.show()"
   ]
  },
  {
   "cell_type": "code",
   "execution_count": 37,
   "id": "dfb79eae",
   "metadata": {},
   "outputs": [
    {
     "data": {
      "image/png": "[encoded data removed]",
      "text/plain": [
       "<Figure size 432x288 with 1 Axes>"
      ]
     },
     "metadata": {
      "needs_background": "light"
     },
     "output_type": "display_data"
    }
   ],
   "source": [
    "sns.countplot(data=data, x=data[\"winPoints\"]).set_title('winPoints')\n",
    "plt.show()"
   ]
  },
  {
   "cell_type": "code",
   "execution_count": 36,
   "id": "b0d7733a",
   "metadata": {},
   "outputs": [
    {
     "data": {
      "text/plain": [
       "(0, 36)"
      ]
     },
     "metadata": {},
     "output_type": "display_data"
    },
    {
     "data": {
      "text/html": [
       "<div>\n",
       "<style scoped>\n",
       "    .dataframe tbody tr th:only-of-type {\n",
       "        vertical-align: middle;\n",
       "    }\n",
       "\n",
       "    .dataframe tbody tr th {\n",
       "        vertical-align: top;\n",
       "    }\n",
       "\n",
       "    .dataframe thead th {\n",
       "        text-align: right;\n",
       "    }\n",
       "</style>\n",
       "<table border=\"1\" class=\"dataframe\">\n",
       "  <thead>\n",
       "    <tr style=\"text-align: right;\">\n",
       "      <th></th>\n",
       "      <th>Unnamed: 0</th>\n",
       "      <th>Id</th>\n",
       "      <th>groupId</th>\n",
       "      <th>matchId</th>\n",
       "      <th>assists</th>\n",
       "      <th>boosts</th>\n",
       "      <th>damageDealt</th>\n",
       "      <th>DBNOs</th>\n",
       "      <th>headshotKills</th>\n",
       "      <th>heals</th>\n",
       "      <th>...</th>\n",
       "      <th>walkDistance</th>\n",
       "      <th>weaponsAcquired</th>\n",
       "      <th>winPoints</th>\n",
       "      <th>winPlacePerc</th>\n",
       "      <th>playersJoined</th>\n",
       "      <th>killsNorm</th>\n",
       "      <th>damageDealtNorm</th>\n",
       "      <th>maxPlaceNorm</th>\n",
       "      <th>matchDurationNorm</th>\n",
       "      <th>headshot_rate</th>\n",
       "    </tr>\n",
       "  </thead>\n",
       "  <tbody>\n",
       "  </tbody>\n",
       "</table>\n",
       "<p>0 rows × 36 columns</p>\n",
       "</div>"
      ],
      "text/plain": [
       "Empty DataFrame\n",
       "Columns: [Unnamed: 0, Id, groupId, matchId, assists, boosts, damageDealt, DBNOs, headshotKills, heals, killPlace, killPoints, kills, killStreaks, longestKill, matchDuration, matchType, maxPlace, numGroups, rankPoints, revives, rideDistance, roadKills, swimDistance, teamKills, vehicleDestroys, walkDistance, weaponsAcquired, winPoints, winPlacePerc, playersJoined, killsNorm, damageDealtNorm, maxPlaceNorm, matchDurationNorm, headshot_rate]\n",
       "Index: []\n",
       "\n",
       "[0 rows x 36 columns]"
      ]
     },
     "execution_count": 36,
     "metadata": {},
     "output_type": "execute_result"
    }
   ],
   "source": [
    "display(data[data['teamKills'] > 30].shape)\n",
    "data[data['teamKills'] > 30].head(10)"
   ]
  },
  {
   "cell_type": "markdown",
   "id": "736b45e4",
   "metadata": {},
   "source": [
    "<H1>Frequency Distribution of Numerical columns</H1>"
   ]
  },
  {
   "cell_type": "code",
   "execution_count": 40,
   "id": "399ad601",
   "metadata": {},
   "outputs": [
    {
     "name": "stderr",
     "output_type": "stream",
     "text": [
      "C:\\Users\\Priya Mishra\\anaconda3\\lib\\site-packages\\seaborn\\distributions.py:2557: FutureWarning: `distplot` is a deprecated function and will be removed in a future version. Please adapt your code to use either `displot` (a figure-level function with similar flexibility) or `histplot` (an axes-level function for histograms).\n",
      "  warnings.warn(msg, FutureWarning)\n"
     ]
    },
    {
     "data": {
      "image/png": "[encoded data removed]",
      "text/plain": [
       "<Figure size 432x288 with 1 Axes>"
      ]
     },
     "metadata": {
      "needs_background": "light"
     },
     "output_type": "display_data"
    }
   ],
   "source": [
    "sns.distplot(data['headshot_rate'], bins=10)\n",
    "plt.show()"
   ]
  },
  {
   "cell_type": "code",
   "execution_count": 41,
   "id": "4dfbbfae",
   "metadata": {},
   "outputs": [
    {
     "data": {
      "text/plain": [
       "Index(['Unnamed: 0', 'Id', 'groupId', 'matchId', 'assists', 'boosts',\n",
       "       'damageDealt', 'DBNOs', 'headshotKills', 'heals', 'killPlace',\n",
       "       'killPoints', 'kills', 'killStreaks', 'longestKill', 'matchDuration',\n",
       "       'matchType', 'maxPlace', 'numGroups', 'rankPoints', 'revives',\n",
       "       'rideDistance', 'roadKills', 'swimDistance', 'teamKills',\n",
       "       'vehicleDestroys', 'walkDistance', 'weaponsAcquired', 'winPoints',\n",
       "       'winPlacePerc', 'playersJoined', 'killsNorm', 'damageDealtNorm',\n",
       "       'maxPlaceNorm', 'matchDurationNorm', 'headshot_rate'],\n",
       "      dtype='object')"
      ]
     },
     "execution_count": 41,
     "metadata": {},
     "output_type": "execute_result"
    }
   ],
   "source": [
    "data.columns\n"
   ]
  },
  {
   "cell_type": "code",
   "execution_count": 43,
   "id": "4ee191b9",
   "metadata": {},
   "outputs": [
    {
     "name": "stderr",
     "output_type": "stream",
     "text": [
      "C:\\Users\\Priya Mishra\\anaconda3\\lib\\site-packages\\seaborn\\distributions.py:2557: FutureWarning: `distplot` is a deprecated function and will be removed in a future version. Please adapt your code to use either `displot` (a figure-level function with similar flexibility) or `histplot` (an axes-level function for histograms).\n",
      "  warnings.warn(msg, FutureWarning)\n"
     ]
    },
    {
     "data": {
      "image/png": "[encoded data removed]",
      "text/plain": [
       "<Figure size 432x288 with 1 Axes>"
      ]
     },
     "metadata": {
      "needs_background": "light"
     },
     "output_type": "display_data"
    }
   ],
   "source": [
    "sns.distplot(data['rankPoints'], bins=10)\n",
    "plt.show()"
   ]
  },
  {
   "cell_type": "code",
   "execution_count": 44,
   "id": "14687ecf",
   "metadata": {},
   "outputs": [
    {
     "name": "stderr",
     "output_type": "stream",
     "text": [
      "C:\\Users\\Priya Mishra\\anaconda3\\lib\\site-packages\\seaborn\\distributions.py:2557: FutureWarning: `distplot` is a deprecated function and will be removed in a future version. Please adapt your code to use either `displot` (a figure-level function with similar flexibility) or `histplot` (an axes-level function for histograms).\n",
      "  warnings.warn(msg, FutureWarning)\n"
     ]
    },
    {
     "data": {
      "image/png": "[encoded data removed]",
      "text/plain": [
       "<Figure size 432x288 with 1 Axes>"
      ]
     },
     "metadata": {
      "needs_background": "light"
     },
     "output_type": "display_data"
    }
   ],
   "source": [
    "sns.distplot(data['headshotKills'], bins=10)\n",
    "plt.show()"
   ]
  },
  {
   "cell_type": "markdown",
   "id": "494f7a4e",
   "metadata": {},
   "source": [
    "<h1>Frequency Distribution for Categorical Columns</h1>\n"
   ]
  },
  {
   "cell_type": "markdown",
   "id": "48471b03",
   "metadata": {},
   "source": [
    "<p>For frequency distribution in categorical column we need to convert into numberical by using LabelEncoders</p>"
   ]
  },
  {
   "cell_type": "code",
   "execution_count": 47,
   "id": "1cd480f2",
   "metadata": {},
   "outputs": [
    {
     "name": "stdout",
     "output_type": "stream",
     "text": [
      "[ 84  57  50  56  31  59  81  25   6   8  96  85  63  88  91  95  87  80\n",
      "  67  36  17  11  43  22  48  29  65  38  66  71  92  51  39   2  90   7\n",
      "  60  12  37  46  54  30  10  28  74  34  26  23  86  53  47  20  83  44\n",
      "  49  75  58  64  19  62  41  55  94  61   9  42  15  73  16  13  99  33\n",
      "  35  93  76  52  32  40  27  77  18   4  21  89  24  79  72  14  82  45\n",
      "  69  68  97   3   1   5  78  70  98 100]\n",
      "0          83\n",
      "1          56\n",
      "2          49\n",
      "3          55\n",
      "4          30\n",
      "           ..\n",
      "1111737    67\n",
      "1111738     9\n",
      "1111739    24\n",
      "1111740    44\n",
      "1111741    14\n",
      "Name: killPlace1, Length: 1111742, dtype: category\n",
      "Categories (100, int64): [0, 1, 2, 3, ..., 96, 97, 98, 99]\n"
     ]
    },
    {
     "name": "stderr",
     "output_type": "stream",
     "text": [
      "C:\\Users\\Priya Mishra\\anaconda3\\lib\\site-packages\\seaborn\\distributions.py:2557: FutureWarning: `distplot` is a deprecated function and will be removed in a future version. Please adapt your code to use either `displot` (a figure-level function with similar flexibility) or `histplot` (an axes-level function for histograms).\n",
      "  warnings.warn(msg, FutureWarning)\n"
     ]
    },
    {
     "data": {
      "image/png": "[encoded data removed]",
      "text/plain": [
       "<Figure size 432x288 with 1 Axes>"
      ]
     },
     "metadata": {
      "needs_background": "light"
     },
     "output_type": "display_data"
    }
   ],
   "source": [
    "from sklearn.preprocessing import LabelEncoder\n",
    "\n",
    "#Categorical column1\n",
    "df=data[\"killPlace\"].unique()\n",
    "print(df)\n",
    "le=LabelEncoder()\n",
    "data[\"killPlace1\"]=le.fit_transform(data[\"killPlace\"])\n",
    "data[\"killPlace1\"]=data[\"killPlace1\"].astype(\"category\")\n",
    "print(data[\"killPlace1\"])\n",
    "\n",
    "sns.distplot(data.killPlace1)\n",
    "plt.show()"
   ]
  },
  {
   "cell_type": "markdown",
   "id": "0105af15",
   "metadata": {},
   "source": [
    "<h3>Observation/Conclusion</h3>\n",
    "<h4>In this observation says that the graph is constants between 0 to 100 not exact just missing somethings</h4>"
   ]
  },
  {
   "cell_type": "code",
   "execution_count": 48,
   "id": "b578457f",
   "metadata": {},
   "outputs": [
    {
     "name": "stdout",
     "output_type": "stream",
     "text": [
      "[  1   7   0   5   3   2   4   6  30   8  11   9  10  12  19  13  14  24\n",
      "  21  27  28  18  20  22  25  16  15  26  29  17  33  38  41  39  49  32\n",
      "  34  36  23  37  31  35  45  43  52  51  47  55 128  63  85  40  42  66\n",
      "  88  44  54  68  57  81  78  70  65  59  53  48  46  96  60  61  95  64\n",
      " 177  72  58]\n",
      "0          1\n",
      "1          7\n",
      "2          7\n",
      "3          0\n",
      "4          5\n",
      "          ..\n",
      "1111737    2\n",
      "1111738    7\n",
      "1111739    1\n",
      "1111740    4\n",
      "1111741    5\n",
      "Name: weaponsAcquired1, Length: 1111742, dtype: category\n",
      "Categories (75, int64): [0, 1, 2, 3, ..., 71, 72, 73, 74]\n"
     ]
    },
    {
     "name": "stderr",
     "output_type": "stream",
     "text": [
      "C:\\Users\\Priya Mishra\\anaconda3\\lib\\site-packages\\seaborn\\distributions.py:2557: FutureWarning: `distplot` is a deprecated function and will be removed in a future version. Please adapt your code to use either `displot` (a figure-level function with similar flexibility) or `histplot` (an axes-level function for histograms).\n",
      "  warnings.warn(msg, FutureWarning)\n"
     ]
    },
    {
     "data": {
      "image/png": "[encoded data removed]",
      "text/plain": [
       "<Figure size 432x288 with 1 Axes>"
      ]
     },
     "metadata": {
      "needs_background": "light"
     },
     "output_type": "display_data"
    }
   ],
   "source": [
    "#Categorical column2\n",
    "df=data[\"weaponsAcquired\"].unique()\n",
    "print(df)\n",
    "le=LabelEncoder()\n",
    "data[\"weaponsAcquired1\"]=le.fit_transform(data[\"weaponsAcquired\"])\n",
    "data[\"weaponsAcquired1\"]=data[\"weaponsAcquired1\"].astype(\"category\")\n",
    "print(data[\"weaponsAcquired1\"])\n",
    "\n",
    "sns.distplot(data.weaponsAcquired1)\n",
    "plt.show()\n"
   ]
  },
  {
   "cell_type": "markdown",
   "id": "4b6ca2f3",
   "metadata": {},
   "source": [
    "<h3>Categorical Columns 3</h3>"
   ]
  },
  {
   "cell_type": "code",
   "execution_count": 50,
   "id": "2b2ee3c8",
   "metadata": {},
   "outputs": [
    {
     "name": "stdout",
     "output_type": "stream",
     "text": [
      "[30 28 26 23 20 25 22 19 29 21 24  4 31 16 18 36 27 17 32 13 34 15 12 33\n",
      " 37 14  5  8 35 10 38  9  6  7  2  3 39 40 11  1 42 41]\n",
      "0          29\n",
      "1          29\n",
      "2          27\n",
      "3          25\n",
      "4          27\n",
      "           ..\n",
      "1111737    26\n",
      "1111738    29\n",
      "1111739    20\n",
      "1111740    21\n",
      "1111741    24\n",
      "Name: playersJoined1, Length: 1111742, dtype: category\n",
      "Categories (42, int64): [0, 1, 2, 3, ..., 38, 39, 40, 41]\n"
     ]
    },
    {
     "name": "stderr",
     "output_type": "stream",
     "text": [
      "C:\\Users\\Priya Mishra\\anaconda3\\lib\\site-packages\\seaborn\\distributions.py:2557: FutureWarning: `distplot` is a deprecated function and will be removed in a future version. Please adapt your code to use either `displot` (a figure-level function with similar flexibility) or `histplot` (an axes-level function for histograms).\n",
      "  warnings.warn(msg, FutureWarning)\n"
     ]
    },
    {
     "data": {
      "image/png": "[encoded data removed]",
      "text/plain": [
       "<Figure size 432x288 with 1 Axes>"
      ]
     },
     "metadata": {
      "needs_background": "light"
     },
     "output_type": "display_data"
    }
   ],
   "source": [
    "#Categorical column2\n",
    "df=data[\"playersJoined\"].unique()\n",
    "print(df)\n",
    "le=LabelEncoder()\n",
    "data[\"playersJoined1\"]=le.fit_transform(data[\"playersJoined\"])\n",
    "data[\"playersJoined1\"]=data[\"playersJoined1\"].astype(\"category\")\n",
    "print(data[\"playersJoined1\"])\n",
    "\n",
    "sns.distplot(data.playersJoined1)\n",
    "plt.show()"
   ]
  },
  {
   "cell_type": "markdown",
   "id": "a01a1ab2",
   "metadata": {},
   "source": [
    "<H2>Observation</h2>\n"
   ]
  },
  {
   "cell_type": "markdown",
   "id": "6b24c8c6",
   "metadata": {},
   "source": [
    "<p>In this observation where players join is range between 10 to 30 and upto max 35 and starting minimum people will joined</p>"
   ]
  },
  {
   "cell_type": "markdown",
   "id": "fd02cf46",
   "metadata": {},
   "source": [
    "<h1>Histogram</h1>\n"
   ]
  },
  {
   "cell_type": "code",
   "execution_count": 52,
   "id": "21ade84c",
   "metadata": {},
   "outputs": [
    {
     "data": {
      "image/png": "[encoded data removed]",
      "text/plain": [
       "<Figure size 432x288 with 1 Axes>"
      ]
     },
     "metadata": {
      "needs_background": "light"
     },
     "output_type": "display_data"
    }
   ],
   "source": [
    "a=data.kills.hist()\n",
    "plt.show()"
   ]
  },
  {
   "cell_type": "code",
   "execution_count": 54,
   "id": "cf2b6675",
   "metadata": {},
   "outputs": [
    {
     "data": {
      "image/png": "[encoded data removed]",
      "text/plain": [
       "<Figure size 432x288 with 1 Axes>"
      ]
     },
     "metadata": {
      "needs_background": "light"
     },
     "output_type": "display_data"
    }
   ],
   "source": [
    "a=data.headshot_rate.hist()\n",
    "plt.show()"
   ]
  },
  {
   "cell_type": "code",
   "execution_count": 55,
   "id": "8e1d8480",
   "metadata": {},
   "outputs": [
    {
     "data": {
      "image/png": "[encoded data removed]",
      "text/plain": [
       "<Figure size 432x288 with 1 Axes>"
      ]
     },
     "metadata": {
      "needs_background": "light"
     },
     "output_type": "display_data"
    }
   ],
   "source": [
    "a=data.teamKills.hist()\n",
    "plt.show()"
   ]
  },
  {
   "cell_type": "markdown",
   "id": "bdf98001",
   "metadata": {},
   "source": [
    "<h1>Bivariante Analysis</h1>"
   ]
  },
  {
   "cell_type": "code",
   "execution_count": 57,
   "id": "848791e8",
   "metadata": {},
   "outputs": [
    {
     "data": {
      "text/html": [
       "<div>\n",
       "<style scoped>\n",
       "    .dataframe tbody tr th:only-of-type {\n",
       "        vertical-align: middle;\n",
       "    }\n",
       "\n",
       "    .dataframe tbody tr th {\n",
       "        vertical-align: top;\n",
       "    }\n",
       "\n",
       "    .dataframe thead th {\n",
       "        text-align: right;\n",
       "    }\n",
       "</style>\n",
       "<table border=\"1\" class=\"dataframe\">\n",
       "  <thead>\n",
       "    <tr style=\"text-align: right;\">\n",
       "      <th></th>\n",
       "      <th>Id</th>\n",
       "      <th>kills</th>\n",
       "      <th>killsNorm</th>\n",
       "      <th>damageDealt</th>\n",
       "      <th>damageDealtNorm</th>\n",
       "      <th>maxPlace</th>\n",
       "      <th>maxPlaceNorm</th>\n",
       "      <th>matchDuration</th>\n",
       "      <th>matchDurationNorm</th>\n",
       "    </tr>\n",
       "  </thead>\n",
       "  <tbody>\n",
       "    <tr>\n",
       "      <th>0</th>\n",
       "      <td>a3e3cea9f2e314</td>\n",
       "      <td>0</td>\n",
       "      <td>0.00</td>\n",
       "      <td>25.93</td>\n",
       "      <td>44.0810</td>\n",
       "      <td>31</td>\n",
       "      <td>52.70</td>\n",
       "      <td>1403</td>\n",
       "      <td>2385.10</td>\n",
       "    </tr>\n",
       "    <tr>\n",
       "      <th>1</th>\n",
       "      <td>43e4be7ad72cc7</td>\n",
       "      <td>0</td>\n",
       "      <td>0.00</td>\n",
       "      <td>36.71</td>\n",
       "      <td>62.4070</td>\n",
       "      <td>30</td>\n",
       "      <td>51.00</td>\n",
       "      <td>1971</td>\n",
       "      <td>3350.70</td>\n",
       "    </tr>\n",
       "    <tr>\n",
       "      <th>2</th>\n",
       "      <td>9a68690e31fdff</td>\n",
       "      <td>0</td>\n",
       "      <td>0.00</td>\n",
       "      <td>47.73</td>\n",
       "      <td>82.0956</td>\n",
       "      <td>96</td>\n",
       "      <td>165.12</td>\n",
       "      <td>1741</td>\n",
       "      <td>2994.52</td>\n",
       "    </tr>\n",
       "    <tr>\n",
       "      <th>3</th>\n",
       "      <td>b147e1bd448fc4</td>\n",
       "      <td>0</td>\n",
       "      <td>0.00</td>\n",
       "      <td>0.00</td>\n",
       "      <td>0.0000</td>\n",
       "      <td>28</td>\n",
       "      <td>48.72</td>\n",
       "      <td>1738</td>\n",
       "      <td>3024.12</td>\n",
       "    </tr>\n",
       "    <tr>\n",
       "      <th>4</th>\n",
       "      <td>d818b4edd59612</td>\n",
       "      <td>1</td>\n",
       "      <td>1.72</td>\n",
       "      <td>100.00</td>\n",
       "      <td>172.0000</td>\n",
       "      <td>99</td>\n",
       "      <td>170.28</td>\n",
       "      <td>2193</td>\n",
       "      <td>3771.96</td>\n",
       "    </tr>\n",
       "    <tr>\n",
       "      <th>5</th>\n",
       "      <td>e705cb7a4446ea</td>\n",
       "      <td>0</td>\n",
       "      <td>0.00</td>\n",
       "      <td>0.00</td>\n",
       "      <td>0.0000</td>\n",
       "      <td>94</td>\n",
       "      <td>166.38</td>\n",
       "      <td>1358</td>\n",
       "      <td>2403.66</td>\n",
       "    </tr>\n",
       "    <tr>\n",
       "      <th>6</th>\n",
       "      <td>e253262031e08f</td>\n",
       "      <td>0</td>\n",
       "      <td>0.00</td>\n",
       "      <td>0.00</td>\n",
       "      <td>0.0000</td>\n",
       "      <td>99</td>\n",
       "      <td>178.20</td>\n",
       "      <td>1497</td>\n",
       "      <td>2694.60</td>\n",
       "    </tr>\n",
       "    <tr>\n",
       "      <th>7</th>\n",
       "      <td>c264a5ce0d4ca1</td>\n",
       "      <td>1</td>\n",
       "      <td>1.72</td>\n",
       "      <td>170.20</td>\n",
       "      <td>292.7440</td>\n",
       "      <td>97</td>\n",
       "      <td>166.84</td>\n",
       "      <td>1968</td>\n",
       "      <td>3384.96</td>\n",
       "    </tr>\n",
       "    <tr>\n",
       "      <th>8</th>\n",
       "      <td>342437cd2b5680</td>\n",
       "      <td>4</td>\n",
       "      <td>7.00</td>\n",
       "      <td>338.70</td>\n",
       "      <td>592.7250</td>\n",
       "      <td>47</td>\n",
       "      <td>82.25</td>\n",
       "      <td>1989</td>\n",
       "      <td>3480.75</td>\n",
       "    </tr>\n",
       "    <tr>\n",
       "      <th>9</th>\n",
       "      <td>3cf3cc81325a37</td>\n",
       "      <td>3</td>\n",
       "      <td>5.22</td>\n",
       "      <td>230.80</td>\n",
       "      <td>401.5920</td>\n",
       "      <td>32</td>\n",
       "      <td>55.68</td>\n",
       "      <td>1373</td>\n",
       "      <td>2389.02</td>\n",
       "    </tr>\n",
       "    <tr>\n",
       "      <th>10</th>\n",
       "      <td>cf3fc190ef0636</td>\n",
       "      <td>0</td>\n",
       "      <td>0.00</td>\n",
       "      <td>0.00</td>\n",
       "      <td>0.0000</td>\n",
       "      <td>49</td>\n",
       "      <td>86.73</td>\n",
       "      <td>1376</td>\n",
       "      <td>2435.52</td>\n",
       "    </tr>\n",
       "  </tbody>\n",
       "</table>\n",
       "</div>"
      ],
      "text/plain": [
       "                Id  kills  killsNorm  damageDealt  damageDealtNorm  maxPlace  \\\n",
       "0   a3e3cea9f2e314      0       0.00        25.93          44.0810        31   \n",
       "1   43e4be7ad72cc7      0       0.00        36.71          62.4070        30   \n",
       "2   9a68690e31fdff      0       0.00        47.73          82.0956        96   \n",
       "3   b147e1bd448fc4      0       0.00         0.00           0.0000        28   \n",
       "4   d818b4edd59612      1       1.72       100.00         172.0000        99   \n",
       "5   e705cb7a4446ea      0       0.00         0.00           0.0000        94   \n",
       "6   e253262031e08f      0       0.00         0.00           0.0000        99   \n",
       "7   c264a5ce0d4ca1      1       1.72       170.20         292.7440        97   \n",
       "8   342437cd2b5680      4       7.00       338.70         592.7250        47   \n",
       "9   3cf3cc81325a37      3       5.22       230.80         401.5920        32   \n",
       "10  cf3fc190ef0636      0       0.00         0.00           0.0000        49   \n",
       "\n",
       "    maxPlaceNorm  matchDuration  matchDurationNorm  \n",
       "0          52.70           1403            2385.10  \n",
       "1          51.00           1971            3350.70  \n",
       "2         165.12           1741            2994.52  \n",
       "3          48.72           1738            3024.12  \n",
       "4         170.28           2193            3771.96  \n",
       "5         166.38           1358            2403.66  \n",
       "6         178.20           1497            2694.60  \n",
       "7         166.84           1968            3384.96  \n",
       "8          82.25           1989            3480.75  \n",
       "9          55.68           1373            2389.02  \n",
       "10         86.73           1376            2435.52  "
      ]
     },
     "execution_count": 57,
     "metadata": {},
     "output_type": "execute_result"
    }
   ],
   "source": [
    "data['killsNorm'] = data['kills']*((100-data['playersJoined'])/100 + 1)\n",
    "data['damageDealtNorm'] =data['damageDealt']*((100-data['playersJoined'])/100 + 1)\n",
    "data['maxPlaceNorm'] = data['maxPlace']*((100-data['playersJoined'])/100 + 1)\n",
    "data['matchDurationNorm'] = data['matchDuration']*((100-data['playersJoined'])/100 + 1)\n",
    "# Compare standard features and normalized features\n",
    "to_show = ['Id', 'kills','killsNorm','damageDealt', 'damageDealtNorm', 'maxPlace', 'maxPlaceNorm', 'matchDuration', 'matchDurationNorm']\n",
    "data[to_show][0:11]"
   ]
  },
  {
   "cell_type": "code",
   "execution_count": null,
   "id": "7eddf95a",
   "metadata": {},
   "outputs": [],
   "source": []
  },
  {
   "cell_type": "markdown",
   "id": "11e233e0",
   "metadata": {},
   "source": [
    "<h1>Categorical And Categorical</h1>\n"
   ]
  },
  {
   "cell_type": "markdown",
   "id": "5791fe57",
   "metadata": {},
   "source": [
    "<h2>In Bivariante Analysis there is There types \n",
    "    1=Categorical and categorical\n",
    "    2=Numerical and Categorical\n",
    "    3=Numerical and numberical\n",
    "    </h2>"
   ]
  },
  {
   "cell_type": "code",
   "execution_count": 59,
   "id": "2c53c226",
   "metadata": {},
   "outputs": [
    {
     "data": {
      "image/png": "[encoded data removed]",
      "text/plain": [
       "<Figure size 432x288 with 1 Axes>"
      ]
     },
     "metadata": {
      "needs_background": "light"
     },
     "output_type": "display_data"
    }
   ],
   "source": [
    "a=data[\"killPlace\"].unique()\n",
    "b=data[\"weaponsAcquired\"].unique()\n",
    "c=pd.crosstab(data[\"killPlace\"],data[\"weaponsAcquired\"]).plot(kind=\"bar\",stacked=True)\n",
    "plt.show()"
   ]
  },
  {
   "cell_type": "markdown",
   "id": "88fff150",
   "metadata": {},
   "source": [
    "<h3>I am a Lazy person and I don't want to up and down the scrollbar that's why I again print column name</h3>"
   ]
  },
  {
   "cell_type": "code",
   "execution_count": 109,
   "id": "086cb40c",
   "metadata": {},
   "outputs": [
    {
     "data": {
      "text/plain": [
       "Index(['Unnamed: 0', 'Id', 'groupId', 'matchId', 'assists', 'boosts',\n",
       "       'damageDealt', 'DBNOs', 'headshotKills', 'heals', 'killPlace',\n",
       "       'killPoints', 'kills', 'killStreaks', 'longestKill', 'matchDuration',\n",
       "       'matchType', 'maxPlace', 'numGroups', 'rankPoints', 'revives',\n",
       "       'rideDistance', 'roadKills', 'swimDistance', 'teamKills',\n",
       "       'vehicleDestroys', 'walkDistance', 'weaponsAcquired', 'winPoints',\n",
       "       'winPlacePerc', 'playersJoined', 'killsNorm', 'damageDealtNorm',\n",
       "       'maxPlaceNorm', 'matchDurationNorm', 'headshot_rate', 'killPlace1',\n",
       "       'weaponsAcquired1', 'playersJoined1'],\n",
       "      dtype='object')"
      ]
     },
     "execution_count": 109,
     "metadata": {},
     "output_type": "execute_result"
    }
   ],
   "source": [
    "data.columns"
   ]
  },
  {
   "cell_type": "code",
   "execution_count": 111,
   "id": "e285b469",
   "metadata": {},
   "outputs": [
    {
     "data": {
      "image/png": "[encoded data removed]",
      "text/plain": [
       "<Figure size 432x288 with 1 Axes>"
      ]
     },
     "metadata": {
      "needs_background": "light"
     },
     "output_type": "display_data"
    }
   ],
   "source": [
    "a=data[\"winPlacePerc\"].unique()\n",
    "b=data[\"assists\"].unique()\n",
    "c=pd.crosstab(data[\"winPlacePerc\"],data[\"assists\"]).plot(kind=\"bar\",stacked=True)\n",
    "plt.show()"
   ]
  },
  {
   "cell_type": "markdown",
   "id": "040bd717",
   "metadata": {},
   "source": [
    "<h1>Numerical and categorical</h1>"
   ]
  },
  {
   "cell_type": "code",
   "execution_count": 61,
   "id": "0f9503e6",
   "metadata": {},
   "outputs": [
    {
     "data": {
      "image/png": "[encoded data removed]",
      "text/plain": [
       "<Figure size 432x288 with 1 Axes>"
      ]
     },
     "metadata": {
      "needs_background": "light"
     },
     "output_type": "display_data"
    },
    {
     "name": "stdout",
     "output_type": "stream",
     "text": [
      "d is  AxesSubplot(0.125,0.125;0.775x0.755)\n"
     ]
    }
   ],
   "source": [
    "d=data.groupby([\"killPlace\"])[\"kills\"].mean().plot(kind=\"bar\",stacked=True)\n",
    "plt.show()\n",
    "\n",
    "print(\"d is \",d)"
   ]
  },
  {
   "cell_type": "markdown",
   "id": "5766938f",
   "metadata": {},
   "source": [
    "<h3>In this observation it shows that graph is decreasing continously at the highest to lowest region but at some time it is negligible</h3>"
   ]
  },
  {
   "cell_type": "code",
   "execution_count": 63,
   "id": "375d281a",
   "metadata": {},
   "outputs": [
    {
     "data": {
      "image/png": "[encoded data removed]",
      "text/plain": [
       "<Figure size 432x288 with 1 Axes>"
      ]
     },
     "metadata": {
      "needs_background": "light"
     },
     "output_type": "display_data"
    },
    {
     "name": "stdout",
     "output_type": "stream",
     "text": [
      "d is  AxesSubplot(0.125,0.125;0.775x0.755)\n"
     ]
    }
   ],
   "source": [
    "d=data.groupby([\"killPlace\"])[\"kills\"].mean().plot(kind=\"hist\",stacked=True)\n",
    "plt.show()\n",
    "\n",
    "print(\"d is \",d)"
   ]
  },
  {
   "cell_type": "code",
   "execution_count": 65,
   "id": "3169f847",
   "metadata": {},
   "outputs": [
    {
     "data": {
      "image/png": "[encoded data removed]",
      "text/plain": [
       "<Figure size 432x288 with 1 Axes>"
      ]
     },
     "metadata": {
      "needs_background": "light"
     },
     "output_type": "display_data"
    },
    {
     "name": "stdout",
     "output_type": "stream",
     "text": [
      "d is  AxesSubplot(0.125,0.125;0.775x0.755)\n"
     ]
    }
   ],
   "source": [
    "d=data.groupby([\"weaponsAcquired\"])[\"killPoints\"].mean().plot(kind=\"bar\",stacked=True)\n",
    "plt.show()\n",
    "\n",
    "print(\"d is \",d)"
   ]
  },
  {
   "cell_type": "markdown",
   "id": "9e67f313",
   "metadata": {},
   "source": [
    "<h3>In this categorical and numerical columns I'll Obser that first at somepoint graph is in constant for at some other  point graph is decreasing but at some time graph is at down positon and at some tme is going to the peak of the highest \n",
    "    For example a match is going and the first opener doing well but after there going out teams is not control there wicket at some times runrate is slow at some time runrate is high</h3>"
   ]
  },
  {
   "cell_type": "code",
   "execution_count": 66,
   "id": "412325d7",
   "metadata": {},
   "outputs": [
    {
     "data": {
      "image/png": "[encoded data removed]",
      "text/plain": [
       "<Figure size 432x288 with 1 Axes>"
      ]
     },
     "metadata": {
      "needs_background": "light"
     },
     "output_type": "display_data"
    },
    {
     "name": "stdout",
     "output_type": "stream",
     "text": [
      "d is  AxesSubplot(0.125,0.125;0.775x0.755)\n"
     ]
    }
   ],
   "source": [
    "d=data.groupby([\"weaponsAcquired\"])[\"killPoints\"].mean().plot(kind=\"hist\",stacked=True)\n",
    "plt.show()\n",
    "\n",
    "print(\"d is \",d)"
   ]
  },
  {
   "cell_type": "markdown",
   "id": "1accab24",
   "metadata": {},
   "source": [
    "<h1>Research Questions</h1>"
   ]
  },
  {
   "cell_type": "markdown",
   "id": "388a57e3",
   "metadata": {},
   "source": [
    "<h2>Ques-1: A players whose played one season fro the starting of the new season and he is confident that his Kd in that seasons\n",
    "is atleast 15 kills per/match. How do he prove that his kd in pubg is real?</h2>¶ "
   ]
  },
  {
   "cell_type": "markdown",
   "id": "48add63f",
   "metadata": {},
   "source": [
    "Step - 1: Alternate Hypothesis (Bold Claim):\n",
    "𝐻1: ?\n",
    " \n",
    "Null Hypothesis (Status Quo):\n",
    "𝐻0: ?\n",
    " \n",
    "Step - 2:\n",
    "\n",
    "Collect a sample of size n = 10"
   ]
  },
  {
   "cell_type": "markdown",
   "id": "a3f1c2c1",
   "metadata": {},
   "source": [
    "[10,12,15,20,21,17,16,14,17,18]\n",
    " \n",
    "Compute sample mean\n",
    "𝑥¯ = ?\n",
    " \n",
    "Step - 3: Compute Test Statistic:\n",
    "\n"
   ]
  },
  {
   "cell_type": "markdown",
   "id": "939be974",
   "metadata": {},
   "source": [
    "If population variance is unknown\n",
    "𝑡=𝑥¯−𝜇𝑠/𝑛⎯⎯√2"
   ]
  },
  {
   "cell_type": "markdown",
   "id": "f3ad275e",
   "metadata": {},
   "source": [
    "Step - 4: Decide  𝛼 \n",
    "Step - 5.1: ? tailed z-test:\n",
    "𝑟𝑒𝑗𝑒𝑐𝑡 𝐻0 𝑖𝑓?\n",
    " \n",
    "Step - 5.2: Compute p-value"
   ]
  },
  {
   "cell_type": "code",
   "execution_count": 84,
   "id": "8bbdb4d3",
   "metadata": {},
   "outputs": [
    {
     "name": "stdout",
     "output_type": "stream",
     "text": [
      "16.0\n",
      "3.22490309931942\n"
     ]
    }
   ],
   "source": [
    "sample_mean=15\n",
    "l=[10,12,15,20,21,17,16,14,17,18]\n",
    "pop_mean=np.mean(l)\n",
    "print(pop_mean)\n",
    "pop_std=np.std(l)\n",
    "print(pop_std)\n",
    "sample_size=10"
   ]
  },
  {
   "cell_type": "code",
   "execution_count": 85,
   "id": "03c3e1f3",
   "metadata": {},
   "outputs": [],
   "source": [
    "def t_score(sample_size,sample_mean,pop_mean,pop_std):\n",
    "    numerator = sample_mean - pop_mean\n",
    "    denomenator = pop_std / sample_size**0.5\n",
    "    return numerator / denomenator"
   ]
  },
  {
   "cell_type": "markdown",
   "id": "87b27d2a",
   "metadata": {},
   "source": [
    "<h1>Finding the values of t</h1>"
   ]
  },
  {
   "cell_type": "code",
   "execution_count": 101,
   "id": "654f3602",
   "metadata": {},
   "outputs": [
    {
     "name": "stdout",
     "output_type": "stream",
     "text": [
      "0.9805806756909201\n"
     ]
    }
   ],
   "source": [
    "import math\n",
    "t1=((pop_mean-sample_mean)/pop_std)*math.sqrt(sample_size)\n",
    "print(t1)\n"
   ]
  },
  {
   "cell_type": "markdown",
   "id": "7accfc0a",
   "metadata": {},
   "source": [
    "<h1>Finding the values of alpha</h1>"
   ]
  },
  {
   "cell_type": "code",
   "execution_count": 102,
   "id": "7f764ac9",
   "metadata": {},
   "outputs": [
    {
     "name": "stdout",
     "output_type": "stream",
     "text": [
      "0.050000000000000044\n"
     ]
    }
   ],
   "source": [
    "confidence_level = 0.95\n",
    "\n",
    "alpha = 1 - confidence_level\n",
    "print(alpha)"
   ]
  },
  {
   "cell_type": "markdown",
   "id": "8ff73c5f",
   "metadata": {},
   "source": [
    "<h1>Finding the values of t_critical</h1>"
   ]
  },
  {
   "cell_type": "code",
   "execution_count": 103,
   "id": "ac8ee0b1",
   "metadata": {},
   "outputs": [
    {
     "name": "stdout",
     "output_type": "stream",
     "text": [
      "2.2621571627409915\n"
     ]
    }
   ],
   "source": [
    "from scipy.stats import t\n",
    "df=sample_size-1\n",
    "\n",
    "\n",
    "t_critical =t.ppf(1 - alpha/2,df=sample_size-1)\n",
    "print(t_critical)"
   ]
  },
  {
   "cell_type": "markdown",
   "id": "cb85a051",
   "metadata": {},
   "source": [
    "<h3>Ploting the sampling distribution with rejection regions\n",
    "</h3>"
   ]
  },
  {
   "cell_type": "code",
   "execution_count": 104,
   "id": "9ed9d548",
   "metadata": {},
   "outputs": [
    {
     "data": {
      "text/plain": [
       "Text(15, 0.05, 'x_bar')"
      ]
     },
     "execution_count": 104,
     "metadata": {},
     "output_type": "execute_result"
    },
    {
     "data": {
      "image/png": "[encoded data removed]",
      "text/plain": [
       "<Figure size 432x288 with 1 Axes>"
      ]
     },
     "metadata": {
      "needs_background": "light"
     },
     "output_type": "display_data"
    }
   ],
   "source": [
    "# Defining the x minimum and x maximum\n",
    "x_min =8 \n",
    "x_max =24\n",
    "mean = pop_mean\n",
    "std = pop_std / (sample_size**0.5)\n",
    "\n",
    "\n",
    "# Ploting the graph and setting the x limits\n",
    "x = np.linspace(x_min, x_max, 100)\n",
    "y = norm.pdf(x, mean, std)\n",
    "plt.xlim(x_min, x_max)\n",
    "plt.plot(x, y)\n",
    "\n",
    "\n",
    "# Computing the right critical value (Right tailed Test)\n",
    "t_critical_right = pop_mean + (t_critical * std)\n",
    "\n",
    "\n",
    "# Shading the right rejection region\n",
    "x1 = np.linspace(t_critical_right, x_max, 100)\n",
    "y1 = norm.pdf(x1, mean, std)\n",
    "plt.fill_between(x1, y1, color='orange')\n",
    "\n",
    "\n",
    "# Ploting the sample mean and concluding the results \n",
    "plt.scatter(sample_mean, 0)\n",
    "plt.annotate(\"x_bar\", (sample_mean, 0.05))\n"
   ]
  },
  {
   "cell_type": "markdown",
   "id": "cab71cb2",
   "metadata": {},
   "source": [
    "<h2>This si shows that t is rejected or t is fail to reject the t_critical</h2>"
   ]
  },
  {
   "cell_type": "markdown",
   "id": "8cccacdf",
   "metadata": {},
   "source": [
    "if(np.abs(t1) > t_critical):\n",
    "    print(\"Reject Null Hypothesis\")\n",
    "else:\n",
    "    print(\"Fail to reject Null Hypothesis\")"
   ]
  },
  {
   "cell_type": "markdown",
   "id": "b944dc64",
   "metadata": {},
   "source": [
    "<h1>Finding the p_score</h1>"
   ]
  },
  {
   "cell_type": "code",
   "execution_count": 107,
   "id": "9d7d72b2",
   "metadata": {},
   "outputs": [
    {
     "name": "stdout",
     "output_type": "stream",
     "text": [
      "p_value =  0.17621101915799775\n",
      "Fail to reject Null Hypothesis\n"
     ]
    }
   ],
   "source": [
    "p_value = 1.0 -t.cdf(np.abs(t1),df=sample_size-1)\n",
    "\n",
    "print(\"p_value = \", p_value)\n",
    "\n",
    "if(p_value < 0.01):\n",
    "    print(\"Reject Null Hypothesis\")\n",
    "else:\n",
    "    print(\"Fail to reject Null Hypothesis\")"
   ]
  },
  {
   "cell_type": "markdown",
   "id": "ce2378cc",
   "metadata": {},
   "source": [
    "<h1>Observations</h1>"
   ]
  },
  {
   "cell_type": "markdown",
   "id": "9e08139c",
   "metadata": {},
   "source": [
    "<h3>In this observations shows that it is obser that it is fail to reject the null because the claimed by the player is true that's why it is failing to reject the null hypothesis</h3>"
   ]
  },
  {
   "cell_type": "markdown",
   "id": "7711e81f",
   "metadata": {},
   "source": [
    "<h3>Ques 2: In the surver of 2020 it state that in India pubg is Played in maximum house.And the per day income of the pubg owner is atleast \n",
    "    12 crores per/days.If people didn't conveys that than it incomes is not 12 crores</h3>"
   ]
  },
  {
   "cell_type": "markdown",
   "id": "d0abbaca",
   "metadata": {},
   "source": [
    "Step - 1: Alternate Hypothesis (Bold Claim): 𝐻1: ?\n",
    "\n",
    "Null Hypothesis (Status Quo): 𝐻0: ?\n",
    "\n",
    "Step - 2:\n",
    "\n",
    "Collect a sample of size n = 10\n",
    "\n",
    "[10,14,18,13,15,11,19,12,13,14]\n",
    "\n",
    "Compute sample mean 𝑥¯ = ?\n",
    "\n",
    "Step - 3: Compute Test Statistic:"
   ]
  },
  {
   "cell_type": "markdown",
   "id": "81cedff5",
   "metadata": {},
   "source": [
    "If population variance is unknown$$ t = \\frac{\\bar{x} - \\mu}{s/\\sqrt[2]{n}} $$"
   ]
  },
  {
   "cell_type": "markdown",
   "id": "7f2ba6bd",
   "metadata": {},
   "source": [
    "Step - 4: Decide $ \\alpha $ or significance level\n",
    "\n",
    "Step - 5.1: ? tailed z-test:$$ reject \\ H_0 \\ if \\ ? $$\n",
    "\n",
    "Step - 5.2: Compute p-value"
   ]
  },
  {
   "cell_type": "code",
   "execution_count": 113,
   "id": "7741b031",
   "metadata": {},
   "outputs": [
    {
     "name": "stdout",
     "output_type": "stream",
     "text": [
      "13.9\n",
      "2.7\n"
     ]
    }
   ],
   "source": [
    "sample_mean=12\n",
    "l=[10,14,18,13,15,11,19,12,13,14]\n",
    "sample_size=10\n",
    "pop_mean=np.mean(l)\n",
    "print(pop_mean)\n",
    "pop_std=np.std(l)\n",
    "print(pop_std)\n"
   ]
  },
  {
   "cell_type": "markdown",
   "id": "fe7dbec2",
   "metadata": {},
   "source": [
    "<h1>Finding the t Values</h1>"
   ]
  },
  {
   "cell_type": "code",
   "execution_count": 114,
   "id": "b3c9925e",
   "metadata": {},
   "outputs": [
    {
     "name": "stdout",
     "output_type": "stream",
     "text": [
      "2.225306501599971\n"
     ]
    }
   ],
   "source": [
    "t1=((pop_mean-sample_mean)/pop_std)*math.sqrt(sample_size)\n",
    "print(t1)"
   ]
  },
  {
   "cell_type": "markdown",
   "id": "363d5eb3",
   "metadata": {},
   "source": [
    "<h1>Finding the alpha</h1>"
   ]
  },
  {
   "cell_type": "code",
   "execution_count": 115,
   "id": "07ae8916",
   "metadata": {},
   "outputs": [
    {
     "name": "stdout",
     "output_type": "stream",
     "text": [
      "0.050000000000000044\n"
     ]
    }
   ],
   "source": [
    "confidence_level = 0.95\n",
    "\n",
    "alpha = 1 - confidence_level\n",
    "print(alpha)"
   ]
  },
  {
   "cell_type": "markdown",
   "id": "4c2ab88f",
   "metadata": {},
   "source": [
    "<H1>Finding the T_critical values</H1>"
   ]
  },
  {
   "cell_type": "code",
   "execution_count": 116,
   "id": "b6da0d39",
   "metadata": {},
   "outputs": [
    {
     "name": "stdout",
     "output_type": "stream",
     "text": [
      "2.2621571627409915\n"
     ]
    }
   ],
   "source": [
    "df=sample_size-1\n",
    "\n",
    "\n",
    "t_critical =t.ppf(1 - alpha/2,df=sample_size-1)\n",
    "print(t_critical)"
   ]
  },
  {
   "cell_type": "code",
   "execution_count": 118,
   "id": "2eebafb5",
   "metadata": {},
   "outputs": [
    {
     "data": {
      "text/plain": [
       "Text(12, 0.01, 'x_bar')"
      ]
     },
     "execution_count": 118,
     "metadata": {},
     "output_type": "execute_result"
    },
    {
     "data": {
      "image/png": "[encoded data removed]",
      "text/plain": [
       "<Figure size 432x288 with 1 Axes>"
      ]
     },
     "metadata": {
      "needs_background": "light"
     },
     "output_type": "display_data"
    }
   ],
   "source": [
    "# Defining the x minimum and x maximum\n",
    "x_min =8 \n",
    "x_max =20\n",
    "mean = pop_mean\n",
    "std = pop_std / (sample_size**0.5)\n",
    "\n",
    "\n",
    "# Ploting the graph and setting the x limits\n",
    "x = np.linspace(x_min, x_max, 100)\n",
    "y = norm.pdf(x, mean, std)\n",
    "plt.xlim(x_min, x_max)\n",
    "plt.plot(x, y)\n",
    "\n",
    "\n",
    "# Computing the right critical value (Right tailed Test)\n",
    "t_critical_right = pop_mean + (t_critical * std)\n",
    "\n",
    "\n",
    "# Shading the right rejection region\n",
    "x1 = np.linspace(t_critical_right, x_max, 100)\n",
    "y1 = norm.pdf(x1, mean, std)\n",
    "plt.fill_between(x1, y1, color='orange')\n",
    "\n",
    "\n",
    "# Ploting the sample mean and concluding the results \n",
    "plt.scatter(sample_mean, 0)\n",
    "plt.annotate(\"x_bar\", (sample_mean, 0.01))\n"
   ]
  },
  {
   "cell_type": "code",
   "execution_count": 119,
   "id": "d332f9b7",
   "metadata": {},
   "outputs": [
    {
     "name": "stdout",
     "output_type": "stream",
     "text": [
      "Fail to reject Null Hypothesis\n"
     ]
    }
   ],
   "source": [
    "if(np.abs(t1) > t_critical):\n",
    "    print(\"Reject Null Hypothesis\")\n",
    "else:\n",
    "    print(\"Fail to reject Null Hypothesis\")"
   ]
  },
  {
   "cell_type": "code",
   "execution_count": 120,
   "id": "4cd908ba",
   "metadata": {},
   "outputs": [
    {
     "name": "stdout",
     "output_type": "stream",
     "text": [
      "p_value =  0.026551056701388687\n",
      "Fail to reject Null Hypothesis\n"
     ]
    }
   ],
   "source": [
    "p_value = 1.0 -t.cdf(np.abs(t1),df=sample_size-1)\n",
    "\n",
    "print(\"p_value = \", p_value)\n",
    "\n",
    "if(p_value < 0.01):\n",
    "    print(\"Reject Null Hypothesis\")\n",
    "else:\n",
    "    print(\"Fail to reject Null Hypothesis\")"
   ]
  },
  {
   "cell_type": "markdown",
   "id": "055caf87",
   "metadata": {},
   "source": [
    "<h1>Observations</h1>\n",
    "<p>This shows that the average salary perday of the pubg owner is atleast 12 crore perdays.Hence it fails toreject the null Hypothesis</p>"
   ]
  },
  {
   "cell_type": "code",
   "execution_count": null,
   "id": "d4b093b5",
   "metadata": {},
   "outputs": [],
   "source": []
  }
 ],
 "metadata": {
  "kernelspec": {
   "display_name": "Python 3",
   "language": "python",
   "name": "python3"
  },
  "language_info": {
   "codemirror_mode": {
    "name": "ipython",
    "version": 3
   },
   "file_extension": ".py",
   "mimetype": "text/x-python",
   "name": "python",
   "nbconvert_exporter": "python",
   "pygments_lexer": "ipython3",
   "version": "3.8.8"
  }
 },
 "nbformat": 4,
 "nbformat_minor": 5
}
